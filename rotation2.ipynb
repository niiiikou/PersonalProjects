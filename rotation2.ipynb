{
  "cells": [
    {
      "cell_type": "code",
      "execution_count": 4,
      "metadata": {
        "id": "oTTGFHTl3cK5"
      },
      "outputs": [],
      "source": [
        "import torch\n",
        "import torch.nn as nn\n",
        "from torchvision.models import resnet34\n",
        "from torchvision.datasets import CIFAR10\n",
        "import numpy as np\n",
        "from PIL import Image\n",
        "import matplotlib.pyplot as plt\n",
        "from torch.utils.data import Dataset, DataLoader\n",
        "import torchvision.transforms as transforms\n",
        "import pandas as pd\n",
        "from sklearn.metrics import accuracy_score\n",
        "from google.colab import drive "
      ]
    },
    {
      "cell_type": "code",
      "execution_count": 5,
      "metadata": {
        "colab": {
          "base_uri": "https://localhost:8080/"
        },
        "id": "SxEUouEKztSh",
        "outputId": "dd90dc85-cdd6-4295-ba92-21423cb94b12"
      },
      "outputs": [
        {
          "output_type": "stream",
          "name": "stdout",
          "text": [
            "Mounted at /content/drive\n"
          ]
        }
      ],
      "source": [
        "drive.mount('/content/drive')"
      ]
    },
    {
      "cell_type": "code",
      "execution_count": 6,
      "metadata": {
        "id": "O-ABzjt83ooK"
      },
      "outputs": [],
      "source": [
        "class RotationDataset(Dataset):\n",
        "    def __init__(self,train=True):\n",
        "        self.ds = CIFAR10(\".\",download=True,train=train)\n",
        "        self.Tens = transforms.ToTensor()\n",
        "    def __len__(self):\n",
        "        return(len(self.ds))\n",
        "    def __getitem__(self,idx):\n",
        "        X = self.ds[idx][0]\n",
        "        rot = np.random.choice(4)\n",
        "        X = X.rotate(rot*90)\n",
        "        \n",
        "        \n",
        "        return self.Tens(X),torch.tensor(rot)\n",
        "                                                       \n",
        "    "
      ]
    },
    {
      "cell_type": "code",
      "execution_count": 7,
      "metadata": {
        "colab": {
          "base_uri": "https://localhost:8080/"
        },
        "id": "zQRiXEBC4uhR",
        "outputId": "2f827171-55cb-49f6-e0dd-8ce770947913"
      },
      "outputs": [
        {
          "output_type": "execute_result",
          "data": {
            "text/plain": [
              "device(type='cuda')"
            ]
          },
          "metadata": {},
          "execution_count": 7
        }
      ],
      "source": [
        "device = torch.device('cuda' if torch.cuda.is_available() else 'cpu')\n",
        "device"
      ]
    },
    {
      "cell_type": "code",
      "execution_count": 8,
      "metadata": {
        "colab": {
          "base_uri": "https://localhost:8080/",
          "height": 70,
          "referenced_widgets": [
            "cdcb29cf1f4a4ed4a6347e5b313862e9",
            "36e2d67c075c4472bd8acdf54e292dc4",
            "3e7a7d98539a4f268a7cb6f0a4f86d16",
            "4064edc5f7364157a7e474abfab283f8",
            "cfcd43ffaf9149b38639426e726f4638",
            "ac48ac3f3eaf44d09f0c1e67b9b75ce0",
            "40de3da3cab346e685160e1b8afe94e2",
            "eeec64b4ea4a4c459427537b883ebea7",
            "aacb3f75c38247628e39223a2700362d",
            "1f74312208574465aa17cba514437fd3",
            "cb02dfc6307e48daaef39b4d4a1655a9"
          ]
        },
        "id": "QgR13D_o3oky",
        "outputId": "59b6057b-d50c-4f02-f23f-b22e060b92db"
      },
      "outputs": [
        {
          "output_type": "stream",
          "name": "stdout",
          "text": [
            "Downloading https://www.cs.toronto.edu/~kriz/cifar-10-python.tar.gz to ./cifar-10-python.tar.gz\n"
          ]
        },
        {
          "output_type": "display_data",
          "data": {
            "text/plain": [
              "  0%|          | 0/170498071 [00:00<?, ?it/s]"
            ],
            "application/vnd.jupyter.widget-view+json": {
              "version_major": 2,
              "version_minor": 0,
              "model_id": "cdcb29cf1f4a4ed4a6347e5b313862e9"
            },
            "application/json": {
              "n": 0,
              "total": 170498071,
              "elapsed": 0.01906752586364746,
              "ncols": null,
              "nrows": null,
              "prefix": "",
              "ascii": false,
              "unit": "it",
              "unit_scale": false,
              "rate": null,
              "bar_format": null,
              "postfix": null,
              "unit_divisor": 1000,
              "initial": 0,
              "colour": null
            }
          },
          "metadata": {}
        },
        {
          "output_type": "stream",
          "name": "stdout",
          "text": [
            "Extracting ./cifar-10-python.tar.gz to .\n",
            "Files already downloaded and verified\n"
          ]
        }
      ],
      "source": [
        "train_set=RotationDataset()\n",
        "val_set = RotationDataset(train=False)\n",
        "train_loader = DataLoader(train_set,batch_size=64,shuffle=True)\n",
        "val_loader = DataLoader(val_set,batch_size=64,shuffle=False)"
      ]
    },
    {
      "cell_type": "code",
      "execution_count": 9,
      "metadata": {
        "colab": {
          "base_uri": "https://localhost:8080/"
        },
        "id": "IqhS66mnztSp",
        "outputId": "e102229f-d01a-4524-b4ba-c2e043fe3f51"
      },
      "outputs": [
        {
          "output_type": "stream",
          "name": "stderr",
          "text": [
            "/usr/local/lib/python3.7/dist-packages/torchvision/models/_utils.py:209: UserWarning: The parameter 'pretrained' is deprecated since 0.13 and will be removed in 0.15, please use 'weights' instead.\n",
            "  f\"The parameter '{pretrained_param}' is deprecated since 0.13 and will be removed in 0.15, \"\n",
            "/usr/local/lib/python3.7/dist-packages/torchvision/models/_utils.py:223: UserWarning: Arguments other than a weight enum or `None` for 'weights' are deprecated since 0.13 and will be removed in 0.15. The current behavior is equivalent to passing `weights=None`.\n",
            "  warnings.warn(msg)\n"
          ]
        }
      ],
      "source": [
        "model = resnet34(pretrained=False)\n",
        "model.fc=nn.Linear(512,4)\n",
        "model = model.to(device)"
      ]
    },
    {
      "cell_type": "code",
      "execution_count": 10,
      "metadata": {
        "id": "orkk1yTPztSq"
      },
      "outputs": [],
      "source": [
        "def save_checkpoint(state, filename=\"my_checkpoint.pth.tar\"):\n",
        "    model_save_name = filename\n",
        "    path = F\"/content/drive/My Drive/{model_save_name}\" \n",
        "    print(\"=> Saving checkpoint\")\n",
        "    torch.save(state, path)\n",
        "\n",
        "\n",
        "def load_checkpoint(checkpoint,model,optimizer):\n",
        "    print(\"=> Loading checkpoint\")\n",
        "    model.load_state_dict(checkpoint[\"state_dict\"])\n",
        "    optimizer.load_state_dict(checkpoint[\"optimizer\"])\n",
        "    iter_train_loss = checkpoint[\"iter_train_loss\"]\n",
        "    iter_val_loss = checkpoint[\"iter_val_loss\"]"
      ]
    },
    {
      "cell_type": "code",
      "execution_count": 11,
      "metadata": {
        "id": "Y1O2dz4K36t_"
      },
      "outputs": [],
      "source": [
        "optimizer = torch.optim.SGD(model.parameters(),lr=1e-4)\n",
        "loss_fn = nn.CrossEntropyLoss()\n",
        "epochs = 50\n",
        "load_model = False\n",
        "if load_model :\n",
        "  model_save_name =\"my_checkpoint.pth.tar\"\n",
        "  path = F\"/content/drive/My Drive/{model_save_name}\" \n",
        "  load_checkpoint(torch.load(path),model,optimizer)"
      ]
    },
    {
      "cell_type": "code",
      "execution_count": 13,
      "metadata": {
        "colab": {
          "base_uri": "https://localhost:8080/"
        },
        "id": "-dcxaR0o36rs",
        "outputId": "ab6ec3e3-ecef-41c7-b80c-bfab7d0de629"
      },
      "outputs": [
        {
          "output_type": "stream",
          "name": "stdout",
          "text": [
            "Epoch: 0 \t Loss: 0.0232 \n",
            "=> Saving checkpoint\n",
            "Epoch: 1 \t Loss: 0.0220 \n",
            "Epoch: 2 \t Loss: 0.0213 \n",
            "Epoch: 3 \t Loss: 0.0207 \n",
            "Epoch: 4 \t Loss: 0.0203 \n",
            "Epoch: 5 \t Loss: 0.0200 \n",
            "=> Saving checkpoint\n",
            "Epoch: 6 \t Loss: 0.0196 \n",
            "Epoch: 7 \t Loss: 0.0194 \n",
            "Epoch: 8 \t Loss: 0.0192 \n",
            "Epoch: 9 \t Loss: 0.0189 \n",
            "Epoch: 10 \t Loss: 0.0187 \n",
            "=> Saving checkpoint\n",
            "Epoch: 11 \t Loss: 0.0185 \n",
            "Epoch: 12 \t Loss: 0.0183 \n",
            "Epoch: 13 \t Loss: 0.0182 \n",
            "Epoch: 14 \t Loss: 0.0181 \n",
            "Epoch: 15 \t Loss: 0.0179 \n",
            "=> Saving checkpoint\n",
            "Epoch: 16 \t Loss: 0.0179 \n",
            "Epoch: 17 \t Loss: 0.0177 \n",
            "Epoch: 18 \t Loss: 0.0176 \n",
            "Epoch: 19 \t Loss: 0.0175 \n",
            "Epoch: 20 \t Loss: 0.0174 \n",
            "=> Saving checkpoint\n",
            "Epoch: 21 \t Loss: 0.0173 \n",
            "Epoch: 22 \t Loss: 0.0172 \n",
            "Epoch: 23 \t Loss: 0.0172 \n",
            "Epoch: 24 \t Loss: 0.0171 \n",
            "Epoch: 25 \t Loss: 0.0170 \n",
            "=> Saving checkpoint\n",
            "Epoch: 26 \t Loss: 0.0169 \n",
            "Epoch: 27 \t Loss: 0.0169 \n",
            "Epoch: 28 \t Loss: 0.0168 \n",
            "Epoch: 29 \t Loss: 0.0168 \n",
            "Epoch: 30 \t Loss: 0.0168 \n",
            "=> Saving checkpoint\n",
            "Epoch: 31 \t Loss: 0.0166 \n",
            "Epoch: 32 \t Loss: 0.0166 \n",
            "Epoch: 33 \t Loss: 0.0166 \n",
            "Epoch: 34 \t Loss: 0.0165 \n",
            "Epoch: 35 \t Loss: 0.0164 \n",
            "=> Saving checkpoint\n",
            "Epoch: 36 \t Loss: 0.0164 \n",
            "Epoch: 37 \t Loss: 0.0163 \n",
            "Epoch: 38 \t Loss: 0.0163 \n",
            "Epoch: 39 \t Loss: 0.0162 \n",
            "Epoch: 40 \t Loss: 0.0162 \n",
            "=> Saving checkpoint\n",
            "Epoch: 41 \t Loss: 0.0162 \n",
            "Epoch: 42 \t Loss: 0.0161 \n",
            "Epoch: 43 \t Loss: 0.0161 \n",
            "Epoch: 44 \t Loss: 0.0160 \n",
            "Epoch: 45 \t Loss: 0.0160 \n",
            "=> Saving checkpoint\n",
            "Epoch: 46 \t Loss: 0.0159 \n",
            "Epoch: 47 \t Loss: 0.0159 \n",
            "Epoch: 48 \t Loss: 0.0158 \n",
            "Epoch: 49 \t Loss: 0.0158 \n"
          ]
        }
      ],
      "source": [
        "train_loss = []\n",
        "val_loss = []\n",
        "for epoch in range(epochs):\n",
        "  model.train()\n",
        "  if epoch % 5 == 1:\n",
        "    checkpoint = {'state_dict' : model.state_dict(), 'optimizer' : optimizer.state_dict(),\n",
        "                  'iter_train_loss' : iter_train_loss ,'iter_val_loss' : iter_val_loss \n",
        "                  }\n",
        "    save_checkpoint(checkpoint, filename=\"my_checkpoint.pth.tar\")\n",
        "\n",
        "  iter_train_loss = 0\n",
        "  iter_val_loss=0\n",
        "  \n",
        "  for X,y in train_loader:\n",
        "\n",
        "    optimizer.zero_grad()        \n",
        "    X = X.to(device)\n",
        "    y = y.to(device)\n",
        "    out = model(X)\n",
        "    loss = loss_fn(out,y)\n",
        "    loss.backward()\n",
        "    optimizer.step()\n",
        "    loss = loss.item()\n",
        "    iter_train_loss += loss\n",
        "\n",
        "\n",
        "  train_loss.append(iter_train_loss/len(train_set))\n",
        "  print(\"Epoch: {0} \\t Loss: {1:.4f} \".format(epoch, iter_train_loss/len(train_set)))\n",
        "  with torch.no_grad():\n",
        "    model.eval()\n",
        "    iter_loss=0\n",
        "    for X,y in val_loader:\n",
        "      \n",
        "      X = X.to(device)\n",
        "      y = y.to(device)\n",
        "      out = model(X)\n",
        "      loss = loss_fn(out,y)\n",
        "      loss = loss.item()\n",
        "      iter_val_loss +=loss\n",
        "    val_loss.append(iter_val_loss/len(val_set))\n"
      ]
    },
    {
      "cell_type": "code",
      "execution_count": 14,
      "metadata": {
        "colab": {
          "base_uri": "https://localhost:8080/",
          "height": 281
        },
        "id": "G0c4k0Sw6EJP",
        "outputId": "50a079fe-6891-4af6-9ef1-747a23c7364a"
      },
      "outputs": [
        {
          "output_type": "display_data",
          "data": {
            "text/plain": [
              "<Figure size 432x288 with 1 Axes>"
            ],
            "image/png": "[encoded data removed]"
          },
          "metadata": {
            "needs_background": "light"
          }
        }
      ],
      "source": [
        "plt.plot(train_loss,label='train')\n",
        "plt.plot(val_loss,label='validation')\n",
        "plt.legend()\n",
        "plt.title(\"Loss\")\n",
        "plt.show()"
      ]
    },
    {
      "cell_type": "markdown",
      "metadata": {
        "id": "nqC0dYAxnkwo"
      },
      "source": [
        "# stage 4"
      ]
    },
    {
      "cell_type": "code",
      "execution_count": 15,
      "metadata": {
        "id": "p6HQ8Ykm36pZ"
      },
      "outputs": [],
      "source": [
        "for param in model.parameters():\n",
        "    param.requires_grad = False"
      ]
    },
    {
      "cell_type": "code",
      "execution_count": 16,
      "metadata": {
        "id": "IrlwpzKy2hBD"
      },
      "outputs": [],
      "source": [
        "stage4=nn.Sequential(model.conv1,model.bn1,model.relu,model.maxpool,model.layer1,model.layer2\n",
        "                     ,model.layer3,model.layer4,nn.Flatten(),nn.Linear(512,10)).to(device)"
      ]
    },
    {
      "cell_type": "code",
      "execution_count": 17,
      "metadata": {
        "id": "smkW9oVX6CcB"
      },
      "outputs": [],
      "source": [
        "clf_train_set=CIFAR10(\".\",transform=transforms.ToTensor())\n",
        "clf_val_set=CIFAR10(\".\",train=False,transform=transforms.ToTensor())\n",
        "clf_train_loader = DataLoader(clf_train_set,batch_size=64,shuffle=True)\n",
        "clf_val_loader = DataLoader(clf_val_set,batch_size=64,shuffle=True)"
      ]
    },
    {
      "cell_type": "code",
      "execution_count": 18,
      "metadata": {
        "id": "yeOHPmwcAJU3"
      },
      "outputs": [],
      "source": [
        "optimizer = torch.optim.SGD(stage4.parameters(),lr=1e-4)\n",
        "loss_fn = nn.CrossEntropyLoss()\n",
        "epochs = 50"
      ]
    },
    {
      "cell_type": "code",
      "execution_count": 30,
      "metadata": {
        "id": "Yn7ECsThAeV4",
        "colab": {
          "base_uri": "https://localhost:8080/"
        },
        "outputId": "cc0d6dec-bae4-47cf-96fb-e27a17f1b879"
      },
      "outputs": [
        {
          "output_type": "stream",
          "name": "stdout",
          "text": [
            "Epoch: 0 \t Loss: 0.0310 \t Accuracy: 27.7 \n",
            "Epoch: 1 \t Loss: 0.0309 \t Accuracy: 27.7 \n",
            "Epoch: 2 \t Loss: 0.0308 \t Accuracy: 28.0 \n",
            "Epoch: 3 \t Loss: 0.0308 \t Accuracy: 28.2 \n",
            "Epoch: 4 \t Loss: 0.0308 \t Accuracy: 28.0 \n",
            "Epoch: 5 \t Loss: 0.0307 \t Accuracy: 28.1 \n",
            "Epoch: 6 \t Loss: 0.0306 \t Accuracy: 28.5 \n",
            "Epoch: 7 \t Loss: 0.0306 \t Accuracy: 28.6 \n",
            "Epoch: 8 \t Loss: 0.0306 \t Accuracy: 28.6 \n",
            "Epoch: 9 \t Loss: 0.0306 \t Accuracy: 28.6 \n",
            "Epoch: 10 \t Loss: 0.0305 \t Accuracy: 29.0 \n",
            "Epoch: 11 \t Loss: 0.0305 \t Accuracy: 28.8 \n",
            "Epoch: 12 \t Loss: 0.0305 \t Accuracy: 28.9 \n",
            "Epoch: 13 \t Loss: 0.0304 \t Accuracy: 29.2 \n",
            "Epoch: 14 \t Loss: 0.0304 \t Accuracy: 29.4 \n",
            "Epoch: 15 \t Loss: 0.0304 \t Accuracy: 29.3 \n",
            "Epoch: 16 \t Loss: 0.0303 \t Accuracy: 29.4 \n",
            "Epoch: 17 \t Loss: 0.0303 \t Accuracy: 29.5 \n",
            "Epoch: 18 \t Loss: 0.0303 \t Accuracy: 29.5 \n",
            "Epoch: 19 \t Loss: 0.0302 \t Accuracy: 29.6 \n",
            "Epoch: 20 \t Loss: 0.0302 \t Accuracy: 29.7 \n",
            "Epoch: 21 \t Loss: 0.0302 \t Accuracy: 29.8 \n",
            "Epoch: 22 \t Loss: 0.0302 \t Accuracy: 29.7 \n",
            "Epoch: 23 \t Loss: 0.0301 \t Accuracy: 29.8 \n",
            "Epoch: 24 \t Loss: 0.0302 \t Accuracy: 29.9 \n",
            "Epoch: 25 \t Loss: 0.0301 \t Accuracy: 30.1 \n",
            "Epoch: 26 \t Loss: 0.0301 \t Accuracy: 29.9 \n",
            "Epoch: 27 \t Loss: 0.0301 \t Accuracy: 30.1 \n",
            "Epoch: 28 \t Loss: 0.0301 \t Accuracy: 30.6 \n",
            "Epoch: 29 \t Loss: 0.0301 \t Accuracy: 30.2 \n",
            "Epoch: 30 \t Loss: 0.0300 \t Accuracy: 30.5 \n",
            "Epoch: 31 \t Loss: 0.0300 \t Accuracy: 30.5 \n",
            "Epoch: 32 \t Loss: 0.0300 \t Accuracy: 30.4 \n",
            "Epoch: 33 \t Loss: 0.0300 \t Accuracy: 30.3 \n",
            "Epoch: 34 \t Loss: 0.0300 \t Accuracy: 30.6 \n",
            "Epoch: 35 \t Loss: 0.0299 \t Accuracy: 30.3 \n",
            "Epoch: 36 \t Loss: 0.0299 \t Accuracy: 30.9 \n",
            "Epoch: 37 \t Loss: 0.0299 \t Accuracy: 30.7 \n",
            "Epoch: 38 \t Loss: 0.0299 \t Accuracy: 30.5 \n",
            "Epoch: 39 \t Loss: 0.0299 \t Accuracy: 30.6 \n",
            "Epoch: 40 \t Loss: 0.0298 \t Accuracy: 31.1 \n",
            "Epoch: 41 \t Loss: 0.0299 \t Accuracy: 30.7 \n",
            "Epoch: 42 \t Loss: 0.0298 \t Accuracy: 30.9 \n",
            "Epoch: 43 \t Loss: 0.0298 \t Accuracy: 30.8 \n",
            "Epoch: 44 \t Loss: 0.0298 \t Accuracy: 30.6 \n",
            "Epoch: 45 \t Loss: 0.0297 \t Accuracy: 31.0 \n",
            "Epoch: 46 \t Loss: 0.0298 \t Accuracy: 31.2 \n",
            "Epoch: 47 \t Loss: 0.0298 \t Accuracy: 31.0 \n",
            "Epoch: 48 \t Loss: 0.0298 \t Accuracy: 31.2 \n",
            "Epoch: 49 \t Loss: 0.0297 \t Accuracy: 30.9 \n"
          ]
        }
      ],
      "source": [
        "train_loss = []\n",
        "val_loss = []\n",
        "train_acc = []\n",
        "val_acc = []\n",
        "for epoch in range(epochs):\n",
        "  model.train()\n",
        "  iter_loss = 0\n",
        "  count_corr = 0\n",
        "  total_corr = 0\n",
        "  for X,y in clf_train_loader:\n",
        "\n",
        "    optimizer.zero_grad()        \n",
        "    X = X.to(device)\n",
        "    y = y.to(device)\n",
        "    out = stage4(X)\n",
        "    loss = loss_fn(out,y)\n",
        "    loss.backward()\n",
        "    optimizer.step()\n",
        "    loss = loss.item()\n",
        "    iter_loss += loss\n",
        "    pre = torch.argmax(out,dim=1)\n",
        "    count_corr = (pre == y).sum().item()\n",
        "    total_corr += count_corr\n",
        "    \n",
        "\n",
        "  train_acc.append(total_corr*100/len(clf_train_set))\n",
        "  train_loss.append(iter_loss/len(clf_train_set))\n",
        "  print(\"Epoch: {0} \\t Loss: {1:.4f} \\t Accuracy: {2:.1f} \".format(epoch,train_loss[-1] ,train_acc[-1]))\n",
        "\n",
        "\n",
        "  with torch.no_grad():\n",
        "    model.eval()\n",
        "    iter_loss=0\n",
        "    count_corr = 0\n",
        "    for X,y in clf_val_loader:\n",
        "      X = X.to(device)\n",
        "      y = y.to(device)\n",
        "      out = stage4(X)\n",
        "      loss = loss_fn(out,y)\n",
        "      loss = loss.item()\n",
        "      iter_loss +=loss\n",
        "      pre = torch.argmax(out,dim=1)\n",
        "      count_corr += (pre == y).sum().item()\n",
        "\n",
        "      \n",
        "    val_loss.append(iter_loss/len(clf_val_set))\n",
        "    val_acc.append(count_corr*100/len(clf_val_set))\n",
        "    \n"
      ]
    },
    {
      "cell_type": "code",
      "source": [
        "plt.plot(train_loss,label='train')\n",
        "plt.plot(val_loss,label='validation')\n",
        "plt.legend()\n",
        "plt.title(\"Loss\")\n",
        "plt.show()"
      ],
      "metadata": {
        "colab": {
          "base_uri": "https://localhost:8080/",
          "height": 281
        },
        "id": "_1l3Y4Tp91hX",
        "outputId": "0511a203-3717-4622-afb5-60ebd102090f"
      },
      "execution_count": 31,
      "outputs": [
        {
          "output_type": "display_data",
          "data": {
            "text/plain": [
              "<Figure size 432x288 with 1 Axes>"
            ],
            "image/png": "[encoded data removed]"
          },
          "metadata": {
            "needs_background": "light"
          }
        }
      ]
    },
    {
      "cell_type": "code",
      "source": [
        "plt.plot(train_acc,label='train')\n",
        "plt.plot(val_acc,label='validation')\n",
        "plt.legend()\n",
        "plt.title(\"Loss\")\n",
        "plt.show()"
      ],
      "metadata": {
        "colab": {
          "base_uri": "https://localhost:8080/",
          "height": 281
        },
        "id": "7oItp8sj9249",
        "outputId": "938e893c-cf57-4d7f-c3a9-706214148709"
      },
      "execution_count": 32,
      "outputs": [
        {
          "output_type": "display_data",
          "data": {
            "text/plain": [
              "<Figure size 432x288 with 1 Axes>"
            ],
            "image/png": "[encoded data removed]"
          },
          "metadata": {
            "needs_background": "light"
          }
        }
      ]
    },
    {
      "cell_type": "markdown",
      "metadata": {
        "id": "YD8SinNZnw47"
      },
      "source": [
        "# stage 2"
      ]
    },
    {
      "cell_type": "code",
      "execution_count": 35,
      "metadata": {
        "id": "uNee7XuPoDhR"
      },
      "outputs": [],
      "source": [
        "for param in model.parameters():\n",
        "    param.requires_grad = False\n",
        "\n",
        "stage2=nn.Sequential(model.conv1,model.bn1,model.relu,model.maxpool,model.layer1,model.layer2\n",
        "                     ,nn.MaxPool2d(kernel_size=2),nn.Flatten(),nn.Linear(512,10)).to(device)\n",
        "\n",
        "optimizer = torch.optim.SGD(stage2.parameters(),lr=1e-4)\n",
        "loss_fn = nn.CrossEntropyLoss()\n",
        "epochs = 50\n"
      ]
    },
    {
      "cell_type": "code",
      "source": [
        "train_loss = []\n",
        "val_loss = []\n",
        "train_acc = []\n",
        "val_acc = []\n",
        "for epoch in range(epochs):\n",
        "  stage2.train()\n",
        "  iter_loss = 0\n",
        "  count_corr = 0\n",
        "  total_corr = 0\n",
        "  for X,y in clf_train_loader:\n",
        "\n",
        "    optimizer.zero_grad()        \n",
        "    X = X.to(device)\n",
        "    y = y.to(device)\n",
        "    out = stage2(X)\n",
        "    loss = loss_fn(out,y)\n",
        "    loss.backward()\n",
        "    optimizer.step()\n",
        "    loss = loss.item()\n",
        "    iter_loss += loss\n",
        "    pre = torch.argmax(out,dim=1)\n",
        "    count_corr = (pre == y).sum().item()\n",
        "    total_corr += count_corr\n",
        "    \n",
        "\n",
        "  train_acc.append(total_corr*100/len(clf_train_set))\n",
        "  train_loss.append(iter_loss/len(clf_train_set))\n",
        "  print(\"Epoch: {0} \\t Loss: {1:.4f} \\t Accuracy: {2:.1f} \".format(epoch,train_loss[-1] ,train_acc[-1]))\n",
        "\n",
        "\n",
        "  with torch.no_grad():\n",
        "    model.eval()\n",
        "    iter_loss=0\n",
        "    count_corr = 0\n",
        "    for X,y in clf_val_loader:\n",
        "      X = X.to(device)\n",
        "      y = y.to(device)\n",
        "      out = stage2(X)\n",
        "      loss = loss_fn(out,y)\n",
        "      loss = loss.item()\n",
        "      iter_loss +=loss\n",
        "      pre = torch.argmax(out,dim=1)\n",
        "      count_corr += (pre == y).sum().item()\n",
        "\n",
        "      \n",
        "    val_loss.append(iter_loss/len(clf_val_set))\n",
        "    val_acc.append(count_corr*100/len(clf_val_set))\n",
        "    \n"
      ],
      "metadata": {
        "colab": {
          "base_uri": "https://localhost:8080/"
        },
        "id": "xd1fqLtuDDcs",
        "outputId": "a556cb50-c964-471f-8e9c-e17215d6210b"
      },
      "execution_count": 36,
      "outputs": [
        {
          "output_type": "stream",
          "name": "stdout",
          "text": [
            "Epoch: 0 \t Loss: 0.0377 \t Accuracy: 12.4 \n",
            "Epoch: 1 \t Loss: 0.0345 \t Accuracy: 18.0 \n",
            "Epoch: 2 \t Loss: 0.0331 \t Accuracy: 21.5 \n",
            "Epoch: 3 \t Loss: 0.0323 \t Accuracy: 23.8 \n",
            "Epoch: 4 \t Loss: 0.0317 \t Accuracy: 25.7 \n",
            "Epoch: 5 \t Loss: 0.0312 \t Accuracy: 27.3 \n",
            "Epoch: 6 \t Loss: 0.0308 \t Accuracy: 27.8 \n",
            "Epoch: 7 \t Loss: 0.0304 \t Accuracy: 29.0 \n",
            "Epoch: 8 \t Loss: 0.0302 \t Accuracy: 29.7 \n",
            "Epoch: 9 \t Loss: 0.0299 \t Accuracy: 30.2 \n",
            "Epoch: 10 \t Loss: 0.0297 \t Accuracy: 31.0 \n",
            "Epoch: 11 \t Loss: 0.0295 \t Accuracy: 31.5 \n",
            "Epoch: 12 \t Loss: 0.0292 \t Accuracy: 31.8 \n",
            "Epoch: 13 \t Loss: 0.0290 \t Accuracy: 32.6 \n",
            "Epoch: 14 \t Loss: 0.0289 \t Accuracy: 32.9 \n",
            "Epoch: 15 \t Loss: 0.0287 \t Accuracy: 33.4 \n",
            "Epoch: 16 \t Loss: 0.0286 \t Accuracy: 33.7 \n",
            "Epoch: 17 \t Loss: 0.0285 \t Accuracy: 34.0 \n",
            "Epoch: 18 \t Loss: 0.0284 \t Accuracy: 34.4 \n",
            "Epoch: 19 \t Loss: 0.0283 \t Accuracy: 34.5 \n",
            "Epoch: 20 \t Loss: 0.0281 \t Accuracy: 34.7 \n",
            "Epoch: 21 \t Loss: 0.0280 \t Accuracy: 35.1 \n",
            "Epoch: 22 \t Loss: 0.0279 \t Accuracy: 35.3 \n",
            "Epoch: 23 \t Loss: 0.0278 \t Accuracy: 35.5 \n",
            "Epoch: 24 \t Loss: 0.0278 \t Accuracy: 35.8 \n",
            "Epoch: 25 \t Loss: 0.0277 \t Accuracy: 36.2 \n",
            "Epoch: 26 \t Loss: 0.0276 \t Accuracy: 36.2 \n",
            "Epoch: 27 \t Loss: 0.0275 \t Accuracy: 36.4 \n",
            "Epoch: 28 \t Loss: 0.0274 \t Accuracy: 36.5 \n",
            "Epoch: 29 \t Loss: 0.0274 \t Accuracy: 36.6 \n",
            "Epoch: 30 \t Loss: 0.0273 \t Accuracy: 37.1 \n",
            "Epoch: 31 \t Loss: 0.0273 \t Accuracy: 37.1 \n",
            "Epoch: 32 \t Loss: 0.0272 \t Accuracy: 37.2 \n",
            "Epoch: 33 \t Loss: 0.0271 \t Accuracy: 37.4 \n",
            "Epoch: 34 \t Loss: 0.0271 \t Accuracy: 37.5 \n",
            "Epoch: 35 \t Loss: 0.0270 \t Accuracy: 37.8 \n",
            "Epoch: 36 \t Loss: 0.0270 \t Accuracy: 37.9 \n",
            "Epoch: 37 \t Loss: 0.0269 \t Accuracy: 38.1 \n",
            "Epoch: 38 \t Loss: 0.0269 \t Accuracy: 38.1 \n",
            "Epoch: 39 \t Loss: 0.0268 \t Accuracy: 38.4 \n",
            "Epoch: 40 \t Loss: 0.0268 \t Accuracy: 38.3 \n",
            "Epoch: 41 \t Loss: 0.0267 \t Accuracy: 38.6 \n",
            "Epoch: 42 \t Loss: 0.0267 \t Accuracy: 38.8 \n",
            "Epoch: 43 \t Loss: 0.0266 \t Accuracy: 38.6 \n",
            "Epoch: 44 \t Loss: 0.0266 \t Accuracy: 38.7 \n",
            "Epoch: 45 \t Loss: 0.0265 \t Accuracy: 39.0 \n",
            "Epoch: 46 \t Loss: 0.0265 \t Accuracy: 39.0 \n",
            "Epoch: 47 \t Loss: 0.0265 \t Accuracy: 39.3 \n",
            "Epoch: 48 \t Loss: 0.0264 \t Accuracy: 39.3 \n",
            "Epoch: 49 \t Loss: 0.0264 \t Accuracy: 39.2 \n"
          ]
        }
      ]
    },
    {
      "cell_type": "code",
      "source": [
        "plt.plot(train_loss,label='train')\n",
        "plt.plot(val_loss,label='validation')\n",
        "plt.legend()\n",
        "plt.title(\"Loss\")\n",
        "plt.show()"
      ],
      "metadata": {
        "colab": {
          "base_uri": "https://localhost:8080/",
          "height": 281
        },
        "id": "-2DztuWzEy7R",
        "outputId": "ac717627-b441-4b95-e20f-d5b68ff3aa37"
      },
      "execution_count": 37,
      "outputs": [
        {
          "output_type": "display_data",
          "data": {
            "text/plain": [
              "<Figure size 432x288 with 1 Axes>"
            ],
            "image/png": "[encoded data removed]"
          },
          "metadata": {
            "needs_background": "light"
          }
        }
      ]
    },
    {
      "cell_type": "code",
      "source": [
        "plt.plot(train_acc,label='train')\n",
        "plt.plot(val_acc,label='validation')\n",
        "plt.legend()\n",
        "plt.title(\"Loss\")\n",
        "plt.show()"
      ],
      "metadata": {
        "colab": {
          "base_uri": "https://localhost:8080/",
          "height": 281
        },
        "id": "U7Guv4RsE1pV",
        "outputId": "910bf13c-583c-4557-b45e-cb98f92da824"
      },
      "execution_count": 38,
      "outputs": [
        {
          "output_type": "display_data",
          "data": {
            "text/plain": [
              "<Figure size 432x288 with 1 Axes>"
            ],
            "image/png": "[encoded data removed]"
          },
          "metadata": {
            "needs_background": "light"
          }
        }
      ]
    }
  ],
  "metadata": {
    "colab": {
      "collapsed_sections": [],
      "name": "final_tamrin3_dl_rotation2(1).ipynb",
      "provenance": []
    },
    "gpuClass": "standard",
    "kernelspec": {
      "display_name": "Python 3",
      "name": "python3"
    },
    "language_info": {
      "name": "python"
    },
    "widgets": {
      "application/vnd.jupyter.widget-state+json": {
        "cdcb29cf1f4a4ed4a6347e5b313862e9": {
          "model_module": "@jupyter-widgets/controls",
          "model_name": "HBoxModel",
          "model_module_version": "2.0.0",
          "state": {
            "_dom_classes": [],
            "_model_module": "@jupyter-widgets/controls",
            "_model_module_version": "2.0.0",
            "_model_name": "HBoxModel",
            "_view_count": null,
            "_view_module": "@jupyter-widgets/controls",
            "_view_module_version": "2.0.0",
            "_view_name": "HBoxView",
            "box_style": "",
            "children": [
              "IPY_MODEL_36e2d67c075c4472bd8acdf54e292dc4",
              "IPY_MODEL_3e7a7d98539a4f268a7cb6f0a4f86d16",
              "IPY_MODEL_4064edc5f7364157a7e474abfab283f8"
            ],
            "layout": "IPY_MODEL_cfcd43ffaf9149b38639426e726f4638",
            "tabbable": null,
            "tooltip": null
          }
        },
        "36e2d67c075c4472bd8acdf54e292dc4": {
          "model_module": "@jupyter-widgets/controls",
          "model_name": "HTMLModel",
          "model_module_version": "2.0.0",
          "state": {
            "_dom_classes": [],
            "_model_module": "@jupyter-widgets/controls",
            "_model_module_version": "2.0.0",
            "_model_name": "HTMLModel",
            "_view_count": null,
            "_view_module": "@jupyter-widgets/controls",
            "_view_module_version": "2.0.0",
            "_view_name": "HTMLView",
            "description": "",
            "description_allow_html": false,
            "layout": "IPY_MODEL_ac48ac3f3eaf44d09f0c1e67b9b75ce0",
            "placeholder": "​",
            "style": "IPY_MODEL_40de3da3cab346e685160e1b8afe94e2",
            "tabbable": null,
            "tooltip": null,
            "value": "100%"
          }
        },
        "3e7a7d98539a4f268a7cb6f0a4f86d16": {
          "model_module": "@jupyter-widgets/controls",
          "model_name": "FloatProgressModel",
          "model_module_version": "2.0.0",
          "state": {
            "_dom_classes": [],
            "_model_module": "@jupyter-widgets/controls",
            "_model_module_version": "2.0.0",
            "_model_name": "FloatProgressModel",
            "_view_count": null,
            "_view_module": "@jupyter-widgets/controls",
            "_view_module_version": "2.0.0",
            "_view_name": "ProgressView",
            "bar_style": "success",
            "description": "",
            "description_allow_html": false,
            "layout": "IPY_MODEL_eeec64b4ea4a4c459427537b883ebea7",
            "max": 170498071,
            "min": 0,
            "orientation": "horizontal",
            "style": "IPY_MODEL_aacb3f75c38247628e39223a2700362d",
            "tabbable": null,
            "tooltip": null,
            "value": 170498071
          }
        },
        "4064edc5f7364157a7e474abfab283f8": {
          "model_module": "@jupyter-widgets/controls",
          "model_name": "HTMLModel",
          "model_module_version": "2.0.0",
          "state": {
            "_dom_classes": [],
            "_model_module": "@jupyter-widgets/controls",
            "_model_module_version": "2.0.0",
            "_model_name": "HTMLModel",
            "_view_count": null,
            "_view_module": "@jupyter-widgets/controls",
            "_view_module_version": "2.0.0",
            "_view_name": "HTMLView",
            "description": "",
            "description_allow_html": false,
            "layout": "IPY_MODEL_1f74312208574465aa17cba514437fd3",
            "placeholder": "​",
            "style": "IPY_MODEL_cb02dfc6307e48daaef39b4d4a1655a9",
            "tabbable": null,
            "tooltip": null,
            "value": " 170498071/170498071 [00:03&lt;00:00, 47546328.93it/s]"
          }
        },
        "cfcd43ffaf9149b38639426e726f4638": {
          "model_module": "@jupyter-widgets/base",
          "model_name": "LayoutModel",
          "model_module_version": "2.0.0",
          "state": {
            "_model_module": "@jupyter-widgets/base",
            "_model_module_version": "2.0.0",
            "_model_name": "LayoutModel",
            "_view_count": null,
            "_view_module": "@jupyter-widgets/base",
            "_view_module_version": "2.0.0",
            "_view_name": "LayoutView",
            "align_content": null,
            "align_items": null,
            "align_self": null,
            "border_bottom": null,
            "border_left": null,
            "border_right": null,
            "border_top": null,
            "bottom": null,
            "display": null,
            "flex": null,
            "flex_flow": null,
            "grid_area": null,
            "grid_auto_columns": null,
            "grid_auto_flow": null,
            "grid_auto_rows": null,
            "grid_column": null,
            "grid_gap": null,
            "grid_row": null,
            "grid_template_areas": null,
            "grid_template_columns": null,
            "grid_template_rows": null,
            "height": null,
            "justify_content": null,
            "justify_items": null,
            "left": null,
            "margin": null,
            "max_height": null,
            "max_width": null,
            "min_height": null,
            "min_width": null,
            "object_fit": null,
            "object_position": null,
            "order": null,
            "overflow": null,
            "padding": null,
            "right": null,
            "top": null,
            "visibility": null,
            "width": null
          }
        },
        "ac48ac3f3eaf44d09f0c1e67b9b75ce0": {
          "model_module": "@jupyter-widgets/base",
          "model_name": "LayoutModel",
          "model_module_version": "2.0.0",
          "state": {
            "_model_module": "@jupyter-widgets/base",
            "_model_module_version": "2.0.0",
            "_model_name": "LayoutModel",
            "_view_count": null,
            "_view_module": "@jupyter-widgets/base",
            "_view_module_version": "2.0.0",
            "_view_name": "LayoutView",
            "align_content": null,
            "align_items": null,
            "align_self": null,
            "border_bottom": null,
            "border_left": null,
            "border_right": null,
            "border_top": null,
            "bottom": null,
            "display": null,
            "flex": null,
            "flex_flow": null,
            "grid_area": null,
            "grid_auto_columns": null,
            "grid_auto_flow": null,
            "grid_auto_rows": null,
            "grid_column": null,
            "grid_gap": null,
            "grid_row": null,
            "grid_template_areas": null,
            "grid_template_columns": null,
            "grid_template_rows": null,
            "height": null,
            "justify_content": null,
            "justify_items": null,
            "left": null,
            "margin": null,
            "max_height": null,
            "max_width": null,
            "min_height": null,
            "min_width": null,
            "object_fit": null,
            "object_position": null,
            "order": null,
            "overflow": null,
            "padding": null,
            "right": null,
            "top": null,
            "visibility": null,
            "width": null
          }
        },
        "40de3da3cab346e685160e1b8afe94e2": {
          "model_module": "@jupyter-widgets/controls",
          "model_name": "HTMLStyleModel",
          "model_module_version": "2.0.0",
          "state": {
            "_model_module": "@jupyter-widgets/controls",
            "_model_module_version": "2.0.0",
            "_model_name": "HTMLStyleModel",
            "_view_count": null,
            "_view_module": "@jupyter-widgets/base",
            "_view_module_version": "2.0.0",
            "_view_name": "StyleView",
            "background": null,
            "description_width": "",
            "font_size": null,
            "text_color": null
          }
        },
        "eeec64b4ea4a4c459427537b883ebea7": {
          "model_module": "@jupyter-widgets/base",
          "model_name": "LayoutModel",
          "model_module_version": "2.0.0",
          "state": {
            "_model_module": "@jupyter-widgets/base",
            "_model_module_version": "2.0.0",
            "_model_name": "LayoutModel",
            "_view_count": null,
            "_view_module": "@jupyter-widgets/base",
            "_view_module_version": "2.0.0",
            "_view_name": "LayoutView",
            "align_content": null,
            "align_items": null,
            "align_self": null,
            "border_bottom": null,
            "border_left": null,
            "border_right": null,
            "border_top": null,
            "bottom": null,
            "display": null,
            "flex": null,
            "flex_flow": null,
            "grid_area": null,
            "grid_auto_columns": null,
            "grid_auto_flow": null,
            "grid_auto_rows": null,
            "grid_column": null,
            "grid_gap": null,
            "grid_row": null,
            "grid_template_areas": null,
            "grid_template_columns": null,
            "grid_template_rows": null,
            "height": null,
            "justify_content": null,
            "justify_items": null,
            "left": null,
            "margin": null,
            "max_height": null,
            "max_width": null,
            "min_height": null,
            "min_width": null,
            "object_fit": null,
            "object_position": null,
            "order": null,
            "overflow": null,
            "padding": null,
            "right": null,
            "top": null,
            "visibility": null,
            "width": null
          }
        },
        "aacb3f75c38247628e39223a2700362d": {
          "model_module": "@jupyter-widgets/controls",
          "model_name": "ProgressStyleModel",
          "model_module_version": "2.0.0",
          "state": {
            "_model_module": "@jupyter-widgets/controls",
            "_model_module_version": "2.0.0",
            "_model_name": "ProgressStyleModel",
            "_view_count": null,
            "_view_module": "@jupyter-widgets/base",
            "_view_module_version": "2.0.0",
            "_view_name": "StyleView",
            "bar_color": null,
            "description_width": ""
          }
        },
        "1f74312208574465aa17cba514437fd3": {
          "model_module": "@jupyter-widgets/base",
          "model_name": "LayoutModel",
          "model_module_version": "2.0.0",
          "state": {
            "_model_module": "@jupyter-widgets/base",
            "_model_module_version": "2.0.0",
            "_model_name": "LayoutModel",
            "_view_count": null,
            "_view_module": "@jupyter-widgets/base",
            "_view_module_version": "2.0.0",
            "_view_name": "LayoutView",
            "align_content": null,
            "align_items": null,
            "align_self": null,
            "border_bottom": null,
            "border_left": null,
            "border_right": null,
            "border_top": null,
            "bottom": null,
            "display": null,
            "flex": null,
            "flex_flow": null,
            "grid_area": null,
            "grid_auto_columns": null,
            "grid_auto_flow": null,
            "grid_auto_rows": null,
            "grid_column": null,
            "grid_gap": null,
            "grid_row": null,
            "grid_template_areas": null,
            "grid_template_columns": null,
            "grid_template_rows": null,
            "height": null,
            "justify_content": null,
            "justify_items": null,
            "left": null,
            "margin": null,
            "max_height": null,
            "max_width": null,
            "min_height": null,
            "min_width": null,
            "object_fit": null,
            "object_position": null,
            "order": null,
            "overflow": null,
            "padding": null,
            "right": null,
            "top": null,
            "visibility": null,
            "width": null
          }
        },
        "cb02dfc6307e48daaef39b4d4a1655a9": {
          "model_module": "@jupyter-widgets/controls",
          "model_name": "HTMLStyleModel",
          "model_module_version": "2.0.0",
          "state": {
            "_model_module": "@jupyter-widgets/controls",
            "_model_module_version": "2.0.0",
            "_model_name": "HTMLStyleModel",
            "_view_count": null,
            "_view_module": "@jupyter-widgets/base",
            "_view_module_version": "2.0.0",
            "_view_name": "StyleView",
            "background": null,
            "description_width": "",
            "font_size": null,
            "text_color": null
          }
        }
      }
    },
    "accelerator": "GPU"
  },
  "nbformat": 4,
  "nbformat_minor": 0
}