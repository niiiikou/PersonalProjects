{
  "cells": [
    {
      "cell_type": "code",
      "execution_count": 11,
      "metadata": {
        "id": "vU9akOyd7BNB"
      },
      "outputs": [],
      "source": [
        "import torch\n",
        "import torch.nn as nn\n",
        "from torchvision.models import resnet50,resnet34\n",
        "from torchvision.datasets import CIFAR10\n",
        "import numpy as np\n",
        "from PIL import Image\n",
        "import matplotlib.pyplot as plt\n",
        "from torch.utils.data import Dataset, DataLoader\n",
        "import torchvision.transforms as transforms\n",
        "from torch.nn import functional as F\n",
        "from google.colab import drive \n",
        "#from pl_bolts.models.self_supervised.evaluator import Flatten"
      ]
    },
    {
      "cell_type": "code",
      "execution_count": 2,
      "metadata": {
        "colab": {
          "base_uri": "https://localhost:8080/"
        },
        "id": "wcLme8x6cUlP",
        "outputId": "90b5a8f0-5bd7-4c2e-8c57-318778cc2913"
      },
      "outputs": [
        {
          "name": "stdout",
          "output_type": "stream",
          "text": [
            "Mounted at /content/drive\n"
          ]
        }
      ],
      "source": [
        "drive.mount('/content/drive')"
      ]
    },
    {
      "cell_type": "code",
      "execution_count": 3,
      "metadata": {
        "colab": {
          "base_uri": "https://localhost:8080/"
        },
        "id": "-jpB4wOi6BVO",
        "outputId": "756b46e1-0c52-453e-9b9e-4080140a931e"
      },
      "outputs": [
        {
          "data": {
            "text/plain": [
              "device(type='cuda')"
            ]
          },
          "execution_count": 3,
          "metadata": {},
          "output_type": "execute_result"
        }
      ],
      "source": [
        "device = torch.device('cuda' if torch.cuda.is_available() else 'cpu')\n",
        "device"
      ]
    },
    {
      "cell_type": "code",
      "execution_count": 4,
      "metadata": {
        "id": "i9_nhhWoTAsc"
      },
      "outputs": [],
      "source": [
        "class SimclrDataset(Dataset):\n",
        "    def __init__(self,train=True):\n",
        "        self.ds = CIFAR10(\".\",download=True,train=train)\n",
        "        self.Tens = transforms.ToTensor()\n",
        "        \n",
        "        \n",
        "        def get_color_distortion(s=0.5):  # 0.5 for CIFAR10 by default\n",
        "          # s is the strength of color distortion\n",
        "          color_jitter = transforms.ColorJitter(0.8*s, 0.8*s, 0.8*s, 0.2*s)\n",
        "          rnd_color_jitter = transforms.RandomApply([color_jitter], p=0.8)\n",
        "          rnd_gray = transforms.RandomGrayscale(p=0.2)\n",
        "          color_distort = transforms.Compose([rnd_color_jitter, rnd_gray])\n",
        "          return color_distort\n",
        "\n",
        "        data_transforms = [\n",
        "            transforms.RandomResizedCrop(32),\n",
        "            transforms.RandomHorizontalFlip(p=0.5),\n",
        "            get_color_distortion(s=0.5),\n",
        "            transforms.ToTensor()\n",
        "        ]\n",
        "        self.train_transform = transforms.Compose(data_transforms)\n",
        "\n",
        "    def __len__(self):\n",
        "        return(len(self.ds))\n",
        "    def __getitem__(self,idx):\n",
        "\n",
        "        sample = self.ds[idx][0]\n",
        "\n",
        "        xi = self.train_transform(sample)\n",
        "        xj = self.train_transform(sample)\n",
        "        \n",
        "        \n",
        "        return (xi,xj)"
      ]
    },
    {
      "cell_type": "code",
      "execution_count": 5,
      "metadata": {
        "colab": {
          "base_uri": "https://localhost:8080/",
          "height": 70,
          "referenced_widgets": [
            "e6570ea54e494ab79417d7a1f362ac7b",
            "10e7029f5bb041718041262b4006e018",
            "f99a1e7bbcd74f0d80526128df34a4ec",
            "03e1d54b2f8540e2b4c256b1901a2b39",
            "6f0730069c514d48a6e410c1cc214ee6",
            "4641267cf19248da98a0dc8dfa58d78c",
            "4fb2399a7b4b4e05b5c0a4cef9498e35",
            "c734f9798670423fb9c4225bb3fdbdd4",
            "6e9322094d724b67a38ba0b967de84c2",
            "4d1bf2ede4824a63bda19c8e71632c89",
            "fd5d610f090344a3ba1e2d257b220917"
          ]
        },
        "id": "HFBwpIPd7U3V",
        "outputId": "29086f09-f75f-41fb-e838-d2565b7acecd"
      },
      "outputs": [
        {
          "name": "stdout",
          "output_type": "stream",
          "text": [
            "Downloading https://www.cs.toronto.edu/~kriz/cifar-10-python.tar.gz to ./cifar-10-python.tar.gz\n"
          ]
        },
        {
          "data": {
            "application/json": {
              "ascii": false,
              "bar_format": null,
              "colour": null,
              "elapsed": 0.01836705207824707,
              "initial": 0,
              "n": 0,
              "ncols": null,
              "nrows": null,
              "postfix": null,
              "prefix": "",
              "rate": null,
              "total": 170498071,
              "unit": "it",
              "unit_divisor": 1000,
              "unit_scale": false
            },
            "application/vnd.jupyter.widget-view+json": {
              "model_id": "e6570ea54e494ab79417d7a1f362ac7b",
              "version_major": 2,
              "version_minor": 0
            },
            "text/plain": [
              "  0%|          | 0/170498071 [00:00<?, ?it/s]"
            ]
          },
          "metadata": {},
          "output_type": "display_data"
        },
        {
          "name": "stdout",
          "output_type": "stream",
          "text": [
            "Extracting ./cifar-10-python.tar.gz to .\n",
            "Files already downloaded and verified\n"
          ]
        }
      ],
      "source": [
        "train_set=SimclrDataset()\n",
        "train_loader = DataLoader(train_set,batch_size=64,shuffle=True)\n",
        "val_set = SimclrDataset(train=False)\n",
        "val_loader = DataLoader(val_set,batch_size=64,shuffle=False)"
      ]
    },
    {
      "cell_type": "code",
      "execution_count": 6,
      "metadata": {
        "colab": {
          "base_uri": "https://localhost:8080/",
          "height": 268
        },
        "id": "RVLTlailcUlX",
        "outputId": "407e6e4e-fc91-4666-b75d-9c12899cc2fb"
      },
      "outputs": [
        {
          "data": {
            "image/png": "[encoded data removed]",
            "text/plain": [
              "<Figure size 432x288 with 4 Axes>"
            ]
          },
          "metadata": {
            "needs_background": "light"
          },
          "output_type": "display_data"
        }
      ],
      "source": [
        "#print(dataiter.next()[0][0].shape)\n",
        "#print(dataiter.next()[0][0][0].shape)\n",
        "x =iter(train_loader).next()\n",
        "plt.subplot(2, 2, 1)\n",
        "plt.imshow(x[0][0].permute(1, 2, 0))\n",
        "plt.subplot(2, 2, 2)\n",
        "plt.imshow(x[1][0].permute(1, 2, 0))\n",
        "plt.subplot(2, 2, 3)\n",
        "plt.imshow(x[0][1].permute(1, 2, 0))\n",
        "plt.subplot(2, 2, 4)\n",
        "plt.imshow(x[1][1].permute(1, 2, 0))\n",
        "plt.show()"
      ]
    },
    {
      "cell_type": "code",
      "execution_count": 7,
      "metadata": {
        "id": "Km5flOnmdbHS"
      },
      "outputs": [],
      "source": [
        "def nt_xent_loss(out_1, out_2, temperature):\n",
        "    out = torch.cat([out_1, out_2], dim=0)\n",
        "    n_samples = len(out)\n",
        "\n",
        "    # Full similarity matrix\n",
        "    cov = torch.mm(out, out.t().contiguous())\n",
        "    sim = torch.exp(cov / temperature)\n",
        "\n",
        "    mask = ~torch.eye(n_samples, device=sim.device).bool()\n",
        "    neg = sim.masked_select(mask).view(n_samples, -1).sum(dim=-1)\n",
        "\n",
        "    # Positive similarity\n",
        "    pos = torch.exp(torch.sum(out_1 * out_2, dim=-1) / temperature)\n",
        "    pos = torch.cat([pos, pos], dim=0)\n",
        "\n",
        "    loss = -torch.log(pos / neg).mean()\n",
        "    return loss"
      ]
    },
    {
      "cell_type": "code",
      "execution_count": 8,
      "metadata": {
        "id": "seK2UvmbuQ_m"
      },
      "outputs": [],
      "source": [
        "class SimCLR(nn.Module):\n",
        "    def __init__(self, base_encoder, projection_dim=128):\n",
        "        super().__init__()\n",
        "        self.enc = base_encoder(pretrained=False)  \n",
        "        self.feature_dim = self.enc.fc.in_features\n",
        "\n",
        "        # Customize for CIFAR10. Replace conv 7x7 with conv 3x3 and remove first max pooling.\n",
        "        # Section B.9 of SimCLR paper.\n",
        "        self.enc.conv1 = nn.Conv2d(3, 64, 3, 1, 1, bias=False)\n",
        "        self.enc.maxpool = nn.Identity()\n",
        "        self.enc.fc = nn.Identity() \n",
        "\n",
        "        # MLP projection.\n",
        "        self.projection_dim = projection_dim\n",
        "        self.projector = nn.Sequential(nn.Linear(self.feature_dim, 2048),\n",
        "                                       nn.ReLU(),\n",
        "                                       nn.Linear(2048, projection_dim))\n",
        "\n",
        "    def forward(self, x):\n",
        "        feature = self.enc(x)\n",
        "        projection = self.projector(feature)\n",
        "        projection = F.normalize(projection)\n",
        "        return feature, projection\n"
      ]
    },
    {
      "cell_type": "code",
      "execution_count": 14,
      "metadata": {
        "id": "bTQopsyOcUlc"
      },
      "outputs": [],
      "source": [
        "model = SimCLR(resnet50)\n",
        "model.to(device)\n",
        "optimizer = torch.optim.SGD(model.parameters(),lr=1e-4)\n",
        "epochs = 5"
      ]
    },
    {
      "cell_type": "code",
      "execution_count": 15,
      "metadata": {
        "id": "zBrlv45bcUld"
      },
      "outputs": [],
      "source": [
        "def save_checkpoint(state, filename=\"my_checkpoint.pth.tar\"):\n",
        "    model_save_name = filename\n",
        "    path = F\"/content/drive/MyDrive/{model_save_name}\" \n",
        "    print(\"=> Saving checkpoint\")\n",
        "    torch.save(state, path)\n",
        "\n",
        "\n",
        "def load_checkpoint(checkpoint,model,optimizer):\n",
        "    print(\"=> Loading checkpoint\")\n",
        "    model.load_state_dict(checkpoint[\"state_dict\"])\n",
        "    optimizer.load_state_dict(checkpoint[\"optimizer\"])\n",
        "    iter_train_loss = checkpoint[\"iter_train_loss\"]\n",
        "    iter_val_loss = checkpoint[\"iter_val_loss\"]"
      ]
    },
    {
      "cell_type": "code",
      "execution_count": 16,
      "metadata": {
        "colab": {
          "base_uri": "https://localhost:8080/"
        },
        "id": "N1jk8kJCie4M",
        "outputId": "05b6e9cd-8708-4b78-f6b2-291e3c3ff3e0"
      },
      "outputs": [
        {
          "name": "stdout",
          "output_type": "stream",
          "text": [
            "=> Loading checkpoint\n"
          ]
        }
      ],
      "source": [
        "load_model = True\n",
        "if load_model :\n",
        "  model_save_name =\"my_checkpoint.pth.tar\"\n",
        "  path = F\"/content/drive/MyDrive/{model_save_name}\" \n",
        "  load_checkpoint(torch.load(path),model,optimizer)"
      ]
    },
    {
      "cell_type": "code",
      "execution_count": 17,
      "metadata": {
        "colab": {
          "base_uri": "https://localhost:8080/"
        },
        "id": "kry2qUpMxUXp",
        "outputId": "e5012832-b7bf-472a-be33-636a51ff2dd8"
      },
      "outputs": [
        {
          "name": "stdout",
          "output_type": "stream",
          "text": [
            "=> Saving checkpoint\n",
            "Epoch: 0 \t Loss: 0.0663 \n",
            "Epoch: 1 \t Loss: 0.0662 \n",
            "Epoch: 2 \t Loss: 0.0661 \n",
            "Epoch: 3 \t Loss: 0.0660 \n",
            "Epoch: 4 \t Loss: 0.0660 \n"
          ]
        }
      ],
      "source": [
        "train_loss = []\n",
        "val_loss = []\n",
        "for epoch in range(epochs):\n",
        "  model.train()\n",
        "  if epoch % 5 == 0:\n",
        "    checkpoint = {'state_dict' : model.state_dict(), 'optimizer' : optimizer.state_dict(),\n",
        "                  'iter_train_loss' : iter_train_loss ,'iter_val_loss' : iter_val_loss \n",
        "                  }\n",
        "    save_checkpoint(checkpoint, filename=\"my_checkpoint.pth.tar\")\n",
        "\n",
        "  iter_train_loss = 0\n",
        "  iter_val_loss=0\n",
        "\n",
        "  for img_1,img_2 in train_loader:\n",
        "\n",
        "    optimizer.zero_grad()\n",
        "    img_1 = img_1.to(device)\n",
        "    img_2 = img_2.to(device)\n",
        "    feature_1, projection_1 = model(img_1)\n",
        "    feature_2, projection_2 = model(img_2) \n",
        "    loss = nt_xent_loss(projection_1,projection_2,0.5)\n",
        "    loss.backward()\n",
        "    optimizer.step()\n",
        "    loss = loss.item()\n",
        "    iter_train_loss += loss\n",
        "\n",
        "  train_loss.append(iter_train_loss/len(train_set))\n",
        "  print(\"Epoch: {0} \\t Loss: {1:.4f} \".format(epoch, train_loss[-1]))\n",
        "\n",
        "\n",
        "  with torch.no_grad():\n",
        "    model.eval()\n",
        "  \n",
        "    for img_1,img_2 in val_loader:\n",
        "      img_1 = img_1.to(device)\n",
        "      img_2 = img_2.to(device)\n",
        "      feature_1, projection_1 = model(img_1)\n",
        "      feature_2, projection_2 = model(img_2) \n",
        "      loss = nt_xent_loss(projection_1,projection_2,0.5)\n",
        "      loss = loss.item()\n",
        "      iter_val_loss +=loss\n",
        "    val_loss.append(iter_val_loss/len(val_set))\n",
        "  "
      ]
    },
    {
      "cell_type": "code",
      "execution_count": null,
      "metadata": {
        "colab": {
          "base_uri": "https://localhost:8080/"
        },
        "id": "NU1XVxlbZHG5",
        "outputId": "e4da0c3d-9de3-4ac0-f9ab-3682bdd477ae"
      },
      "outputs": [
        {
          "name": "stdout",
          "output_type": "stream",
          "text": [
            "Epoch: 0 \t Loss: 0.0664 \n",
            "=> Saving checkpoint\n",
            "Epoch: 1 \t Loss: 0.0662 \n",
            "Epoch: 2 \t Loss: 0.0662 \n",
            "Epoch: 3 \t Loss: 0.0661 \n",
            "Epoch: 4 \t Loss: 0.0661 \n"
          ]
        }
      ],
      "source": [
        "train_loss = []\n",
        "val_loss = []\n",
        "for epoch in range(epochs):\n",
        "  model.train()\n",
        "  if epoch % 5 == 1:\n",
        "    checkpoint = {'state_dict' : model.state_dict(), 'optimizer' : optimizer.state_dict(),\n",
        "                  'iter_train_loss' : iter_train_loss ,'iter_val_loss' : iter_val_loss \n",
        "                  }\n",
        "    save_checkpoint(checkpoint, filename=\"my_checkpoint.pth.tar\")\n",
        "\n",
        "  iter_train_loss = 0\n",
        "  iter_val_loss=0\n",
        "\n",
        "  for img_1,img_2 in train_loader:\n",
        "\n",
        "    optimizer.zero_grad()\n",
        "    img_1 = img_1.to(device)\n",
        "    img_2 = img_2.to(device)\n",
        "    feature_1, projection_1 = model(img_1)\n",
        "    feature_2, projection_2 = model(img_2) \n",
        "    loss = nt_xent_loss(projection_1,projection_2,0.5)\n",
        "    loss.backward()\n",
        "    optimizer.step()\n",
        "    loss = loss.item()\n",
        "    iter_train_loss += loss\n",
        "\n",
        "  train_loss.append(iter_train_loss/len(train_set))\n",
        "  print(\"Epoch: {0} \\t Loss: {1:.4f} \".format(epoch, train_loss[-1]))\n",
        "\n",
        "\n",
        "  with torch.no_grad():\n",
        "    model.eval()\n",
        "  \n",
        "    for img_1,img_2 in val_loader:\n",
        "      img_1 = img_1.to(device)\n",
        "      img_2 = img_2.to(device)\n",
        "      feature_1, projection_1 = model(img_1)\n",
        "      feature_2, projection_2 = model(img_2) \n",
        "      loss = nt_xent_loss(projection_1,projection_2,0.5)\n",
        "      loss = loss.item()\n",
        "      iter_val_loss +=loss\n",
        "    val_loss.append(iter_val_loss/len(val_set))\n",
        "  "
      ]
    },
    {
      "cell_type": "code",
      "execution_count": null,
      "metadata": {
        "colab": {
          "base_uri": "https://localhost:8080/",
          "height": 281
        },
        "id": "WO8gdrBVrxHQ",
        "outputId": "20fbb43b-87e8-417d-cdc8-f781cb3abe58"
      },
      "outputs": [
        {
          "data": {
            "image/png": "[encoded data removed]",
            "text/plain": [
              "<Figure size 432x288 with 1 Axes>"
            ]
          },
          "metadata": {
            "needs_background": "light"
          },
          "output_type": "display_data"
        }
      ],
      "source": [
        "plt.plot(train_loss,label='train')\n",
        "plt.plot(val_loss,label='validation')\n",
        "plt.legend()\n",
        "plt.title(\"Loss\")\n",
        "plt.show()"
      ]
    },
    {
      "cell_type": "code",
      "execution_count": null,
      "metadata": {
        "colab": {
          "base_uri": "https://localhost:8080/"
        },
        "id": "BQw-j7yvBEFA",
        "outputId": "fdb3631f-89d5-4017-c1fa-26aaa9c0582c"
      },
      "outputs": [
        {
          "name": "stdout",
          "output_type": "stream",
          "text": [
            "feature_1 : torch.Size([16, 2048])\n",
            "projection_1 ; torch.Size([16, 128])\n"
          ]
        }
      ],
      "source": [
        "\n",
        "print(\"feature_1 :\",feature_1.shape)\n",
        "print(\"projection_1 ;\",projection_1.shape)"
      ]
    },
    {
      "cell_type": "code",
      "execution_count": 25,
      "metadata": {
        "id": "1qXEt3kRCZY8"
      },
      "outputs": [],
      "source": [
        "class SimCLR_classi(nn.Module):\n",
        "    def __init__(self, model):\n",
        "        super().__init__()\n",
        "        self.freeze = model.enc # load model from torchvision.models without pretrained weights.\n",
        "        self.dt = nn.Sequential(nn.Linear(2048,10))\n",
        "\n",
        "    def forward(self, x):\n",
        "        rep = self.freeze(x)\n",
        "        outt = self.dt(rep)\n",
        "        return outt\n"
      ]
    },
    {
      "cell_type": "code",
      "execution_count": 26,
      "metadata": {
        "colab": {
          "base_uri": "https://localhost:8080/"
        },
        "id": "u7R4G9iUDnw6",
        "outputId": "7180acbc-83e8-4754-d217-523a9026c00d"
      },
      "outputs": [
        {
          "data": {
            "text/plain": [
              "SimCLR_classi(\n",
              "  (freeze): ResNet(\n",
              "    (conv1): Conv2d(3, 64, kernel_size=(3, 3), stride=(1, 1), padding=(1, 1), bias=False)\n",
              "    (bn1): BatchNorm2d(64, eps=1e-05, momentum=0.1, affine=True, track_running_stats=True)\n",
              "    (relu): ReLU(inplace=True)\n",
              "    (maxpool): Identity()\n",
              "    (layer1): Sequential(\n",
              "      (0): Bottleneck(\n",
              "        (conv1): Conv2d(64, 64, kernel_size=(1, 1), stride=(1, 1), bias=False)\n",
              "        (bn1): BatchNorm2d(64, eps=1e-05, momentum=0.1, affine=True, track_running_stats=True)\n",
              "        (conv2): Conv2d(64, 64, kernel_size=(3, 3), stride=(1, 1), padding=(1, 1), bias=False)\n",
              "        (bn2): BatchNorm2d(64, eps=1e-05, momentum=0.1, affine=True, track_running_stats=True)\n",
              "        (conv3): Conv2d(64, 256, kernel_size=(1, 1), stride=(1, 1), bias=False)\n",
              "        (bn3): BatchNorm2d(256, eps=1e-05, momentum=0.1, affine=True, track_running_stats=True)\n",
              "        (relu): ReLU(inplace=True)\n",
              "        (downsample): Sequential(\n",
              "          (0): Conv2d(64, 256, kernel_size=(1, 1), stride=(1, 1), bias=False)\n",
              "          (1): BatchNorm2d(256, eps=1e-05, momentum=0.1, affine=True, track_running_stats=True)\n",
              "        )\n",
              "      )\n",
              "      (1): Bottleneck(\n",
              "        (conv1): Conv2d(256, 64, kernel_size=(1, 1), stride=(1, 1), bias=False)\n",
              "        (bn1): BatchNorm2d(64, eps=1e-05, momentum=0.1, affine=True, track_running_stats=True)\n",
              "        (conv2): Conv2d(64, 64, kernel_size=(3, 3), stride=(1, 1), padding=(1, 1), bias=False)\n",
              "        (bn2): BatchNorm2d(64, eps=1e-05, momentum=0.1, affine=True, track_running_stats=True)\n",
              "        (conv3): Conv2d(64, 256, kernel_size=(1, 1), stride=(1, 1), bias=False)\n",
              "        (bn3): BatchNorm2d(256, eps=1e-05, momentum=0.1, affine=True, track_running_stats=True)\n",
              "        (relu): ReLU(inplace=True)\n",
              "      )\n",
              "      (2): Bottleneck(\n",
              "        (conv1): Conv2d(256, 64, kernel_size=(1, 1), stride=(1, 1), bias=False)\n",
              "        (bn1): BatchNorm2d(64, eps=1e-05, momentum=0.1, affine=True, track_running_stats=True)\n",
              "        (conv2): Conv2d(64, 64, kernel_size=(3, 3), stride=(1, 1), padding=(1, 1), bias=False)\n",
              "        (bn2): BatchNorm2d(64, eps=1e-05, momentum=0.1, affine=True, track_running_stats=True)\n",
              "        (conv3): Conv2d(64, 256, kernel_size=(1, 1), stride=(1, 1), bias=False)\n",
              "        (bn3): BatchNorm2d(256, eps=1e-05, momentum=0.1, affine=True, track_running_stats=True)\n",
              "        (relu): ReLU(inplace=True)\n",
              "      )\n",
              "    )\n",
              "    (layer2): Sequential(\n",
              "      (0): Bottleneck(\n",
              "        (conv1): Conv2d(256, 128, kernel_size=(1, 1), stride=(1, 1), bias=False)\n",
              "        (bn1): BatchNorm2d(128, eps=1e-05, momentum=0.1, affine=True, track_running_stats=True)\n",
              "        (conv2): Conv2d(128, 128, kernel_size=(3, 3), stride=(2, 2), padding=(1, 1), bias=False)\n",
              "        (bn2): BatchNorm2d(128, eps=1e-05, momentum=0.1, affine=True, track_running_stats=True)\n",
              "        (conv3): Conv2d(128, 512, kernel_size=(1, 1), stride=(1, 1), bias=False)\n",
              "        (bn3): BatchNorm2d(512, eps=1e-05, momentum=0.1, affine=True, track_running_stats=True)\n",
              "        (relu): ReLU(inplace=True)\n",
              "        (downsample): Sequential(\n",
              "          (0): Conv2d(256, 512, kernel_size=(1, 1), stride=(2, 2), bias=False)\n",
              "          (1): BatchNorm2d(512, eps=1e-05, momentum=0.1, affine=True, track_running_stats=True)\n",
              "        )\n",
              "      )\n",
              "      (1): Bottleneck(\n",
              "        (conv1): Conv2d(512, 128, kernel_size=(1, 1), stride=(1, 1), bias=False)\n",
              "        (bn1): BatchNorm2d(128, eps=1e-05, momentum=0.1, affine=True, track_running_stats=True)\n",
              "        (conv2): Conv2d(128, 128, kernel_size=(3, 3), stride=(1, 1), padding=(1, 1), bias=False)\n",
              "        (bn2): BatchNorm2d(128, eps=1e-05, momentum=0.1, affine=True, track_running_stats=True)\n",
              "        (conv3): Conv2d(128, 512, kernel_size=(1, 1), stride=(1, 1), bias=False)\n",
              "        (bn3): BatchNorm2d(512, eps=1e-05, momentum=0.1, affine=True, track_running_stats=True)\n",
              "        (relu): ReLU(inplace=True)\n",
              "      )\n",
              "      (2): Bottleneck(\n",
              "        (conv1): Conv2d(512, 128, kernel_size=(1, 1), stride=(1, 1), bias=False)\n",
              "        (bn1): BatchNorm2d(128, eps=1e-05, momentum=0.1, affine=True, track_running_stats=True)\n",
              "        (conv2): Conv2d(128, 128, kernel_size=(3, 3), stride=(1, 1), padding=(1, 1), bias=False)\n",
              "        (bn2): BatchNorm2d(128, eps=1e-05, momentum=0.1, affine=True, track_running_stats=True)\n",
              "        (conv3): Conv2d(128, 512, kernel_size=(1, 1), stride=(1, 1), bias=False)\n",
              "        (bn3): BatchNorm2d(512, eps=1e-05, momentum=0.1, affine=True, track_running_stats=True)\n",
              "        (relu): ReLU(inplace=True)\n",
              "      )\n",
              "      (3): Bottleneck(\n",
              "        (conv1): Conv2d(512, 128, kernel_size=(1, 1), stride=(1, 1), bias=False)\n",
              "        (bn1): BatchNorm2d(128, eps=1e-05, momentum=0.1, affine=True, track_running_stats=True)\n",
              "        (conv2): Conv2d(128, 128, kernel_size=(3, 3), stride=(1, 1), padding=(1, 1), bias=False)\n",
              "        (bn2): BatchNorm2d(128, eps=1e-05, momentum=0.1, affine=True, track_running_stats=True)\n",
              "        (conv3): Conv2d(128, 512, kernel_size=(1, 1), stride=(1, 1), bias=False)\n",
              "        (bn3): BatchNorm2d(512, eps=1e-05, momentum=0.1, affine=True, track_running_stats=True)\n",
              "        (relu): ReLU(inplace=True)\n",
              "      )\n",
              "    )\n",
              "    (layer3): Sequential(\n",
              "      (0): Bottleneck(\n",
              "        (conv1): Conv2d(512, 256, kernel_size=(1, 1), stride=(1, 1), bias=False)\n",
              "        (bn1): BatchNorm2d(256, eps=1e-05, momentum=0.1, affine=True, track_running_stats=True)\n",
              "        (conv2): Conv2d(256, 256, kernel_size=(3, 3), stride=(2, 2), padding=(1, 1), bias=False)\n",
              "        (bn2): BatchNorm2d(256, eps=1e-05, momentum=0.1, affine=True, track_running_stats=True)\n",
              "        (conv3): Conv2d(256, 1024, kernel_size=(1, 1), stride=(1, 1), bias=False)\n",
              "        (bn3): BatchNorm2d(1024, eps=1e-05, momentum=0.1, affine=True, track_running_stats=True)\n",
              "        (relu): ReLU(inplace=True)\n",
              "        (downsample): Sequential(\n",
              "          (0): Conv2d(512, 1024, kernel_size=(1, 1), stride=(2, 2), bias=False)\n",
              "          (1): BatchNorm2d(1024, eps=1e-05, momentum=0.1, affine=True, track_running_stats=True)\n",
              "        )\n",
              "      )\n",
              "      (1): Bottleneck(\n",
              "        (conv1): Conv2d(1024, 256, kernel_size=(1, 1), stride=(1, 1), bias=False)\n",
              "        (bn1): BatchNorm2d(256, eps=1e-05, momentum=0.1, affine=True, track_running_stats=True)\n",
              "        (conv2): Conv2d(256, 256, kernel_size=(3, 3), stride=(1, 1), padding=(1, 1), bias=False)\n",
              "        (bn2): BatchNorm2d(256, eps=1e-05, momentum=0.1, affine=True, track_running_stats=True)\n",
              "        (conv3): Conv2d(256, 1024, kernel_size=(1, 1), stride=(1, 1), bias=False)\n",
              "        (bn3): BatchNorm2d(1024, eps=1e-05, momentum=0.1, affine=True, track_running_stats=True)\n",
              "        (relu): ReLU(inplace=True)\n",
              "      )\n",
              "      (2): Bottleneck(\n",
              "        (conv1): Conv2d(1024, 256, kernel_size=(1, 1), stride=(1, 1), bias=False)\n",
              "        (bn1): BatchNorm2d(256, eps=1e-05, momentum=0.1, affine=True, track_running_stats=True)\n",
              "        (conv2): Conv2d(256, 256, kernel_size=(3, 3), stride=(1, 1), padding=(1, 1), bias=False)\n",
              "        (bn2): BatchNorm2d(256, eps=1e-05, momentum=0.1, affine=True, track_running_stats=True)\n",
              "        (conv3): Conv2d(256, 1024, kernel_size=(1, 1), stride=(1, 1), bias=False)\n",
              "        (bn3): BatchNorm2d(1024, eps=1e-05, momentum=0.1, affine=True, track_running_stats=True)\n",
              "        (relu): ReLU(inplace=True)\n",
              "      )\n",
              "      (3): Bottleneck(\n",
              "        (conv1): Conv2d(1024, 256, kernel_size=(1, 1), stride=(1, 1), bias=False)\n",
              "        (bn1): BatchNorm2d(256, eps=1e-05, momentum=0.1, affine=True, track_running_stats=True)\n",
              "        (conv2): Conv2d(256, 256, kernel_size=(3, 3), stride=(1, 1), padding=(1, 1), bias=False)\n",
              "        (bn2): BatchNorm2d(256, eps=1e-05, momentum=0.1, affine=True, track_running_stats=True)\n",
              "        (conv3): Conv2d(256, 1024, kernel_size=(1, 1), stride=(1, 1), bias=False)\n",
              "        (bn3): BatchNorm2d(1024, eps=1e-05, momentum=0.1, affine=True, track_running_stats=True)\n",
              "        (relu): ReLU(inplace=True)\n",
              "      )\n",
              "      (4): Bottleneck(\n",
              "        (conv1): Conv2d(1024, 256, kernel_size=(1, 1), stride=(1, 1), bias=False)\n",
              "        (bn1): BatchNorm2d(256, eps=1e-05, momentum=0.1, affine=True, track_running_stats=True)\n",
              "        (conv2): Conv2d(256, 256, kernel_size=(3, 3), stride=(1, 1), padding=(1, 1), bias=False)\n",
              "        (bn2): BatchNorm2d(256, eps=1e-05, momentum=0.1, affine=True, track_running_stats=True)\n",
              "        (conv3): Conv2d(256, 1024, kernel_size=(1, 1), stride=(1, 1), bias=False)\n",
              "        (bn3): BatchNorm2d(1024, eps=1e-05, momentum=0.1, affine=True, track_running_stats=True)\n",
              "        (relu): ReLU(inplace=True)\n",
              "      )\n",
              "      (5): Bottleneck(\n",
              "        (conv1): Conv2d(1024, 256, kernel_size=(1, 1), stride=(1, 1), bias=False)\n",
              "        (bn1): BatchNorm2d(256, eps=1e-05, momentum=0.1, affine=True, track_running_stats=True)\n",
              "        (conv2): Conv2d(256, 256, kernel_size=(3, 3), stride=(1, 1), padding=(1, 1), bias=False)\n",
              "        (bn2): BatchNorm2d(256, eps=1e-05, momentum=0.1, affine=True, track_running_stats=True)\n",
              "        (conv3): Conv2d(256, 1024, kernel_size=(1, 1), stride=(1, 1), bias=False)\n",
              "        (bn3): BatchNorm2d(1024, eps=1e-05, momentum=0.1, affine=True, track_running_stats=True)\n",
              "        (relu): ReLU(inplace=True)\n",
              "      )\n",
              "    )\n",
              "    (layer4): Sequential(\n",
              "      (0): Bottleneck(\n",
              "        (conv1): Conv2d(1024, 512, kernel_size=(1, 1), stride=(1, 1), bias=False)\n",
              "        (bn1): BatchNorm2d(512, eps=1e-05, momentum=0.1, affine=True, track_running_stats=True)\n",
              "        (conv2): Conv2d(512, 512, kernel_size=(3, 3), stride=(2, 2), padding=(1, 1), bias=False)\n",
              "        (bn2): BatchNorm2d(512, eps=1e-05, momentum=0.1, affine=True, track_running_stats=True)\n",
              "        (conv3): Conv2d(512, 2048, kernel_size=(1, 1), stride=(1, 1), bias=False)\n",
              "        (bn3): BatchNorm2d(2048, eps=1e-05, momentum=0.1, affine=True, track_running_stats=True)\n",
              "        (relu): ReLU(inplace=True)\n",
              "        (downsample): Sequential(\n",
              "          (0): Conv2d(1024, 2048, kernel_size=(1, 1), stride=(2, 2), bias=False)\n",
              "          (1): BatchNorm2d(2048, eps=1e-05, momentum=0.1, affine=True, track_running_stats=True)\n",
              "        )\n",
              "      )\n",
              "      (1): Bottleneck(\n",
              "        (conv1): Conv2d(2048, 512, kernel_size=(1, 1), stride=(1, 1), bias=False)\n",
              "        (bn1): BatchNorm2d(512, eps=1e-05, momentum=0.1, affine=True, track_running_stats=True)\n",
              "        (conv2): Conv2d(512, 512, kernel_size=(3, 3), stride=(1, 1), padding=(1, 1), bias=False)\n",
              "        (bn2): BatchNorm2d(512, eps=1e-05, momentum=0.1, affine=True, track_running_stats=True)\n",
              "        (conv3): Conv2d(512, 2048, kernel_size=(1, 1), stride=(1, 1), bias=False)\n",
              "        (bn3): BatchNorm2d(2048, eps=1e-05, momentum=0.1, affine=True, track_running_stats=True)\n",
              "        (relu): ReLU(inplace=True)\n",
              "      )\n",
              "      (2): Bottleneck(\n",
              "        (conv1): Conv2d(2048, 512, kernel_size=(1, 1), stride=(1, 1), bias=False)\n",
              "        (bn1): BatchNorm2d(512, eps=1e-05, momentum=0.1, affine=True, track_running_stats=True)\n",
              "        (conv2): Conv2d(512, 512, kernel_size=(3, 3), stride=(1, 1), padding=(1, 1), bias=False)\n",
              "        (bn2): BatchNorm2d(512, eps=1e-05, momentum=0.1, affine=True, track_running_stats=True)\n",
              "        (conv3): Conv2d(512, 2048, kernel_size=(1, 1), stride=(1, 1), bias=False)\n",
              "        (bn3): BatchNorm2d(2048, eps=1e-05, momentum=0.1, affine=True, track_running_stats=True)\n",
              "        (relu): ReLU(inplace=True)\n",
              "      )\n",
              "    )\n",
              "    (avgpool): AdaptiveAvgPool2d(output_size=(1, 1))\n",
              "    (fc): Identity()\n",
              "  )\n",
              "  (dt): Sequential(\n",
              "    (0): Linear(in_features=2048, out_features=10, bias=True)\n",
              "  )\n",
              ")"
            ]
          },
          "execution_count": 26,
          "metadata": {},
          "output_type": "execute_result"
        }
      ],
      "source": [
        "model_class = SimCLR_classi(model)\n",
        "model_class.to(device)"
      ]
    },
    {
      "cell_type": "code",
      "execution_count": 27,
      "metadata": {
        "id": "ROaOcOBve3As"
      },
      "outputs": [],
      "source": [
        "def save_checkpoint(state, filename=\"my_checkpoint_class.pth.tar\"):\n",
        "    model_save_name = filename\n",
        "    path = F\"/content/drive/MyDrive/{model_save_name}\" \n",
        "    print(\"=> Saving checkpoint\")\n",
        "    torch.save(state, path)\n",
        "\n",
        "\n",
        "def load_checkpoint(checkpoint,model,optimizer):\n",
        "    print(\"=> Loading checkpoint\")\n",
        "    model.load_state_dict(checkpoint[\"state_dict\"])\n",
        "    optimizer.load_state_dict(checkpoint[\"optimizer\"])\n",
        "    iter_train_loss = checkpoint[\"iter_train_loss\"]\n",
        "    iter_val_loss = checkpoint[\"iter_val_loss\"]\n",
        "    count_corr_train = checkpoint[\"count_corr_train\"]\n",
        "    count_corr_val = checkpoint[\"count_corr_val\"]\n",
        "    train_acc = checkpoint[\"train_acc\"]\n",
        "    val_acc = checkpoint[\"val_acc\"]\n",
        "    val_loss = checkpoint[\"val_loss\"]\n",
        "    train_loss = checkpoint[\"train_loss\"]"
      ]
    },
    {
      "cell_type": "code",
      "execution_count": 28,
      "metadata": {
        "id": "N11zbwSFNSpJ"
      },
      "outputs": [],
      "source": [
        "clf_train_set=CIFAR10(\".\",transform=transforms.ToTensor())\n",
        "clf_val_set=CIFAR10(\".\",train=False,transform=transforms.ToTensor())\n",
        "clf_train_loader = DataLoader(clf_train_set,batch_size=64,shuffle=True)\n",
        "clf_val_loader = DataLoader(clf_val_set,batch_size=64,shuffle=True)"
      ]
    },
    {
      "cell_type": "code",
      "execution_count": 29,
      "metadata": {
        "id": "O7YeUPwaNVVN"
      },
      "outputs": [],
      "source": [
        "optimizer = torch.optim.SGD(model_class.parameters(),lr=1e-4)\n",
        "loss_fn = nn.CrossEntropyLoss()\n",
        "epochs = 30"
      ]
    },
    {
      "cell_type": "code",
      "execution_count": 30,
      "metadata": {
        "id": "3mqaVj9_e6_9"
      },
      "outputs": [],
      "source": [
        "load_model = False\n",
        "if load_model :\n",
        "  model_save_name =\"my_checkpoint_class.pth.tar\"\n",
        "  path = F\"/content/drive/MyDrive/{model_save_name}\" \n",
        "  load_checkpoint(torch.load(path),model_class,optimizer)"
      ]
    },
    {
      "cell_type": "code",
      "execution_count": 31,
      "metadata": {
        "colab": {
          "base_uri": "https://localhost:8080/"
        },
        "id": "uONAaS5A5WaF",
        "outputId": "7f72912b-376a-4ea4-bf8e-f39590f83155"
      },
      "outputs": [
        {
          "name": "stdout",
          "output_type": "stream",
          "text": [
            "Epoch: 0 \t Loss: 0.0345 \t Accuracy: 17.72 \n",
            "Epoch: 1 \t Loss: 0.0328 \t Accuracy: 21.88 \n",
            "Epoch: 2 \t Loss: 0.0320 \t Accuracy: 24.08 \n",
            "Epoch: 3 \t Loss: 0.0315 \t Accuracy: 25.21 \n",
            "Epoch: 4 \t Loss: 0.0311 \t Accuracy: 26.82 \n",
            "Epoch: 5 \t Loss: 0.0307 \t Accuracy: 27.69 \n",
            "Epoch: 6 \t Loss: 0.0304 \t Accuracy: 28.51 \n",
            "Epoch: 7 \t Loss: 0.0302 \t Accuracy: 29.24 \n",
            "Epoch: 8 \t Loss: 0.0299 \t Accuracy: 29.86 \n",
            "Epoch: 9 \t Loss: 0.0297 \t Accuracy: 30.24 \n",
            "Epoch: 10 \t Loss: 0.0294 \t Accuracy: 30.86 \n",
            "Epoch: 11 \t Loss: 0.0292 \t Accuracy: 31.47 \n",
            "Epoch: 12 \t Loss: 0.0290 \t Accuracy: 32.09 \n",
            "Epoch: 13 \t Loss: 0.0288 \t Accuracy: 32.34 \n",
            "Epoch: 14 \t Loss: 0.0286 \t Accuracy: 32.60 \n",
            "Epoch: 15 \t Loss: 0.0285 \t Accuracy: 33.21 \n",
            "Epoch: 16 \t Loss: 0.0283 \t Accuracy: 33.36 \n",
            "Epoch: 17 \t Loss: 0.0281 \t Accuracy: 33.57 \n",
            "Epoch: 18 \t Loss: 0.0280 \t Accuracy: 34.15 \n",
            "Epoch: 19 \t Loss: 0.0279 \t Accuracy: 34.53 \n",
            "Epoch: 20 \t Loss: 0.0277 \t Accuracy: 34.67 \n",
            "Epoch: 21 \t Loss: 0.0275 \t Accuracy: 35.05 \n",
            "Epoch: 22 \t Loss: 0.0275 \t Accuracy: 35.28 \n",
            "Epoch: 23 \t Loss: 0.0273 \t Accuracy: 35.59 \n",
            "Epoch: 24 \t Loss: 0.0272 \t Accuracy: 35.87 \n",
            "Epoch: 25 \t Loss: 0.0270 \t Accuracy: 36.04 \n",
            "Epoch: 26 \t Loss: 0.0269 \t Accuracy: 36.65 \n",
            "Epoch: 27 \t Loss: 0.0267 \t Accuracy: 36.75 \n",
            "Epoch: 28 \t Loss: 0.0266 \t Accuracy: 36.96 \n",
            "Epoch: 29 \t Loss: 0.0266 \t Accuracy: 37.34 \n"
          ]
        }
      ],
      "source": [
        "train_loss = []\n",
        "val_loss = []\n",
        "train_acc = []\n",
        "val_acc = []\n",
        "for epoch in range(epochs):\n",
        "\n",
        "  model.train()\n",
        "\n",
        "\n",
        "  iter_val_loss = 0\n",
        "  iter_acc = 0\n",
        "  count_corr_train = 0\n",
        "  iter_train_loss = 0\n",
        "  count_corr_train =0\n",
        "  count_corr_val = 0\n",
        "\n",
        "  for X,y in clf_train_loader:\n",
        "\n",
        "    optimizer.zero_grad()        \n",
        "    X = X.to(device)\n",
        "    y = y.to(device)\n",
        "    out = model_class(X)\n",
        "    loss = loss_fn(out,y)\n",
        "    loss.backward()\n",
        "    optimizer.step()\n",
        "    loss = loss.item()\n",
        "    iter_train_loss += loss\n",
        "    pre = torch.argmax(out,dim=1)\n",
        "    count_corr_train += (pre == y).sum().item()\n",
        "    \n",
        "    #iter_acc = accuracy_score(pre.cpu(),y.cpu())\n",
        "    \n",
        "  train_acc.append(count_corr_train*100/len(clf_train_set))\n",
        "  train_loss.append(iter_train_loss/len(clf_train_set))\n",
        "  print(\"Epoch: {0} \\t Loss: {1:.4f} \\t Accuracy: {2:.2f} \".format(epoch, train_loss[-1],train_acc[-1]))\n",
        "\n",
        "\n",
        "  with torch.no_grad():\n",
        "    model.eval()\n",
        "    \n",
        "    for X,y in clf_val_loader:\n",
        "      X = X.to(device)\n",
        "      y = y.to(device)\n",
        "      out = model_class(X)\n",
        "      loss = loss_fn(out,y)\n",
        "      loss = loss.item()\n",
        "      iter_val_loss +=loss\n",
        "      pre = torch.argmax(out,dim=1)\n",
        "      count_corr_val += (pre == y).sum().item()\n",
        "\n",
        "      \n",
        "    val_loss.append(iter_val_loss/len(clf_val_set))\n",
        "    val_acc.append(count_corr_val*100/len(clf_val_set))\n",
        "    \n"
      ]
    },
    {
      "cell_type": "code",
      "execution_count": null,
      "metadata": {
        "id": "4dIcm-TM5dSv"
      },
      "outputs": [],
      "source": [
        "  if epoch % 10 == 1:\n",
        "    checkpoint = {'state_dict' : model.state_dict(), 'optimizer' : optimizer.state_dict(),\n",
        "                  'iter_train_loss' : iter_train_loss ,'iter_val_loss' : iter_val_loss ,\n",
        "                  'count_corr_train' : count_corr_train,'count_corr_val': count_corr_val,\n",
        "                  'train_acc':train_acc,'train_loss' : train_loss,'val_loss': val_loss,\n",
        "                  'val_acc': val_acc\n",
        "                  }\n",
        "    save_checkpoint(checkpoint, filename=\"my_checkpoint_class.pth.tar\")"
      ]
    },
    {
      "cell_type": "code",
      "execution_count": 32,
      "metadata": {
        "colab": {
          "base_uri": "https://localhost:8080/",
          "height": 281
        },
        "id": "5lIpRXT8hxl2",
        "outputId": "23f6d7ef-b31d-419a-beca-862e3f86f268"
      },
      "outputs": [
        {
          "data": {
            "image/png": "[encoded data removed]",
            "text/plain": [
              "<Figure size 432x288 with 1 Axes>"
            ]
          },
          "metadata": {
            "needs_background": "light"
          },
          "output_type": "display_data"
        }
      ],
      "source": [
        "plt.plot(train_loss,label='train')\n",
        "plt.plot(val_loss,label='validation')\n",
        "plt.legend()\n",
        "plt.title(\"Loss\")\n",
        "plt.show()"
      ]
    },
    {
      "cell_type": "code",
      "execution_count": 33,
      "metadata": {
        "colab": {
          "base_uri": "https://localhost:8080/",
          "height": 281
        },
        "id": "ObzYnIMFhz9f",
        "outputId": "6e7fae3e-36b4-40cf-cefa-b6f5d2efa404"
      },
      "outputs": [
        {
          "data": {
            "image/png": "[encoded data removed]",
            "text/plain": [
              "<Figure size 432x288 with 1 Axes>"
            ]
          },
          "metadata": {
            "needs_background": "light"
          },
          "output_type": "display_data"
        }
      ],
      "source": [
        "plt.plot(train_acc,label='train')\n",
        "plt.plot(val_acc,label='validation')\n",
        "plt.legend()\n",
        "plt.title(\"Accuracy\")\n",
        "plt.show()"
      ]
    },
    {
      "cell_type": "code",
      "execution_count": null,
      "metadata": {
        "id": "2FXeS0i87Uyh"
      },
      "outputs": [],
      "source": []
    },
    {
      "cell_type": "code",
      "execution_count": null,
      "metadata": {
        "id": "WkbMSr1S7UwJ"
      },
      "outputs": [],
      "source": []
    },
    {
      "cell_type": "code",
      "execution_count": null,
      "metadata": {
        "id": "XYQFVNp57Ulv"
      },
      "outputs": [],
      "source": []
    }
  ],
  "metadata": {
    "accelerator": "GPU",
    "colab": {
      "collapsed_sections": [],
      "name": "simclr_tamrin(1)(1)(1).ipynb",
      "provenance": []
    },
    "gpuClass": "standard",
    "kernelspec": {
      "display_name": "Python 3.8.6 64-bit",
      "language": "python",
      "name": "python3"
    },
    "language_info": {
      "name": "python",
      "version": "3.8.6"
    },
    "vscode": {
      "interpreter": {
        "hash": "570feb405e2e27c949193ac68f46852414290d515b0ba6e5d90d076ed2284471"
      }
    },
    "widgets": {
      "application/vnd.jupyter.widget-state+json": {
        "03e1d54b2f8540e2b4c256b1901a2b39": {
          "model_module": "@jupyter-widgets/controls",
          "model_module_version": "2.0.0",
          "model_name": "HTMLModel",
          "state": {
            "_dom_classes": [],
            "_model_module": "@jupyter-widgets/controls",
            "_model_module_version": "2.0.0",
            "_model_name": "HTMLModel",
            "_view_count": null,
            "_view_module": "@jupyter-widgets/controls",
            "_view_module_version": "2.0.0",
            "_view_name": "HTMLView",
            "description": "",
            "description_allow_html": false,
            "layout": "IPY_MODEL_4d1bf2ede4824a63bda19c8e71632c89",
            "placeholder": "​",
            "style": "IPY_MODEL_fd5d610f090344a3ba1e2d257b220917",
            "tabbable": null,
            "tooltip": null,
            "value": " 170498071/170498071 [00:01&lt;00:00, 114749811.94it/s]"
          }
        },
        "10e7029f5bb041718041262b4006e018": {
          "model_module": "@jupyter-widgets/controls",
          "model_module_version": "2.0.0",
          "model_name": "HTMLModel",
          "state": {
            "_dom_classes": [],
            "_model_module": "@jupyter-widgets/controls",
            "_model_module_version": "2.0.0",
            "_model_name": "HTMLModel",
            "_view_count": null,
            "_view_module": "@jupyter-widgets/controls",
            "_view_module_version": "2.0.0",
            "_view_name": "HTMLView",
            "description": "",
            "description_allow_html": false,
            "layout": "IPY_MODEL_4641267cf19248da98a0dc8dfa58d78c",
            "placeholder": "​",
            "style": "IPY_MODEL_4fb2399a7b4b4e05b5c0a4cef9498e35",
            "tabbable": null,
            "tooltip": null,
            "value": "100%"
          }
        },
        "4641267cf19248da98a0dc8dfa58d78c": {
          "model_module": "@jupyter-widgets/base",
          "model_module_version": "2.0.0",
          "model_name": "LayoutModel",
          "state": {
            "_model_module": "@jupyter-widgets/base",
            "_model_module_version": "2.0.0",
            "_model_name": "LayoutModel",
            "_view_count": null,
            "_view_module": "@jupyter-widgets/base",
            "_view_module_version": "2.0.0",
            "_view_name": "LayoutView",
            "align_content": null,
            "align_items": null,
            "align_self": null,
            "border_bottom": null,
            "border_left": null,
            "border_right": null,
            "border_top": null,
            "bottom": null,
            "display": null,
            "flex": null,
            "flex_flow": null,
            "grid_area": null,
            "grid_auto_columns": null,
            "grid_auto_flow": null,
            "grid_auto_rows": null,
            "grid_column": null,
            "grid_gap": null,
            "grid_row": null,
            "grid_template_areas": null,
            "grid_template_columns": null,
            "grid_template_rows": null,
            "height": null,
            "justify_content": null,
            "justify_items": null,
            "left": null,
            "margin": null,
            "max_height": null,
            "max_width": null,
            "min_height": null,
            "min_width": null,
            "object_fit": null,
            "object_position": null,
            "order": null,
            "overflow": null,
            "padding": null,
            "right": null,
            "top": null,
            "visibility": null,
            "width": null
          }
        },
        "4d1bf2ede4824a63bda19c8e71632c89": {
          "model_module": "@jupyter-widgets/base",
          "model_module_version": "2.0.0",
          "model_name": "LayoutModel",
          "state": {
            "_model_module": "@jupyter-widgets/base",
            "_model_module_version": "2.0.0",
            "_model_name": "LayoutModel",
            "_view_count": null,
            "_view_module": "@jupyter-widgets/base",
            "_view_module_version": "2.0.0",
            "_view_name": "LayoutView",
            "align_content": null,
            "align_items": null,
            "align_self": null,
            "border_bottom": null,
            "border_left": null,
            "border_right": null,
            "border_top": null,
            "bottom": null,
            "display": null,
            "flex": null,
            "flex_flow": null,
            "grid_area": null,
            "grid_auto_columns": null,
            "grid_auto_flow": null,
            "grid_auto_rows": null,
            "grid_column": null,
            "grid_gap": null,
            "grid_row": null,
            "grid_template_areas": null,
            "grid_template_columns": null,
            "grid_template_rows": null,
            "height": null,
            "justify_content": null,
            "justify_items": null,
            "left": null,
            "margin": null,
            "max_height": null,
            "max_width": null,
            "min_height": null,
            "min_width": null,
            "object_fit": null,
            "object_position": null,
            "order": null,
            "overflow": null,
            "padding": null,
            "right": null,
            "top": null,
            "visibility": null,
            "width": null
          }
        },
        "4fb2399a7b4b4e05b5c0a4cef9498e35": {
          "model_module": "@jupyter-widgets/controls",
          "model_module_version": "2.0.0",
          "model_name": "HTMLStyleModel",
          "state": {
            "_model_module": "@jupyter-widgets/controls",
            "_model_module_version": "2.0.0",
            "_model_name": "HTMLStyleModel",
            "_view_count": null,
            "_view_module": "@jupyter-widgets/base",
            "_view_module_version": "2.0.0",
            "_view_name": "StyleView",
            "background": null,
            "description_width": "",
            "font_size": null,
            "text_color": null
          }
        },
        "6e9322094d724b67a38ba0b967de84c2": {
          "model_module": "@jupyter-widgets/controls",
          "model_module_version": "2.0.0",
          "model_name": "ProgressStyleModel",
          "state": {
            "_model_module": "@jupyter-widgets/controls",
            "_model_module_version": "2.0.0",
            "_model_name": "ProgressStyleModel",
            "_view_count": null,
            "_view_module": "@jupyter-widgets/base",
            "_view_module_version": "2.0.0",
            "_view_name": "StyleView",
            "bar_color": null,
            "description_width": ""
          }
        },
        "6f0730069c514d48a6e410c1cc214ee6": {
          "model_module": "@jupyter-widgets/base",
          "model_module_version": "2.0.0",
          "model_name": "LayoutModel",
          "state": {
            "_model_module": "@jupyter-widgets/base",
            "_model_module_version": "2.0.0",
            "_model_name": "LayoutModel",
            "_view_count": null,
            "_view_module": "@jupyter-widgets/base",
            "_view_module_version": "2.0.0",
            "_view_name": "LayoutView",
            "align_content": null,
            "align_items": null,
            "align_self": null,
            "border_bottom": null,
            "border_left": null,
            "border_right": null,
            "border_top": null,
            "bottom": null,
            "display": null,
            "flex": null,
            "flex_flow": null,
            "grid_area": null,
            "grid_auto_columns": null,
            "grid_auto_flow": null,
            "grid_auto_rows": null,
            "grid_column": null,
            "grid_gap": null,
            "grid_row": null,
            "grid_template_areas": null,
            "grid_template_columns": null,
            "grid_template_rows": null,
            "height": null,
            "justify_content": null,
            "justify_items": null,
            "left": null,
            "margin": null,
            "max_height": null,
            "max_width": null,
            "min_height": null,
            "min_width": null,
            "object_fit": null,
            "object_position": null,
            "order": null,
            "overflow": null,
            "padding": null,
            "right": null,
            "top": null,
            "visibility": null,
            "width": null
          }
        },
        "c734f9798670423fb9c4225bb3fdbdd4": {
          "model_module": "@jupyter-widgets/base",
          "model_module_version": "2.0.0",
          "model_name": "LayoutModel",
          "state": {
            "_model_module": "@jupyter-widgets/base",
            "_model_module_version": "2.0.0",
            "_model_name": "LayoutModel",
            "_view_count": null,
            "_view_module": "@jupyter-widgets/base",
            "_view_module_version": "2.0.0",
            "_view_name": "LayoutView",
            "align_content": null,
            "align_items": null,
            "align_self": null,
            "border_bottom": null,
            "border_left": null,
            "border_right": null,
            "border_top": null,
            "bottom": null,
            "display": null,
            "flex": null,
            "flex_flow": null,
            "grid_area": null,
            "grid_auto_columns": null,
            "grid_auto_flow": null,
            "grid_auto_rows": null,
            "grid_column": null,
            "grid_gap": null,
            "grid_row": null,
            "grid_template_areas": null,
            "grid_template_columns": null,
            "grid_template_rows": null,
            "height": null,
            "justify_content": null,
            "justify_items": null,
            "left": null,
            "margin": null,
            "max_height": null,
            "max_width": null,
            "min_height": null,
            "min_width": null,
            "object_fit": null,
            "object_position": null,
            "order": null,
            "overflow": null,
            "padding": null,
            "right": null,
            "top": null,
            "visibility": null,
            "width": null
          }
        },
        "e6570ea54e494ab79417d7a1f362ac7b": {
          "model_module": "@jupyter-widgets/controls",
          "model_module_version": "2.0.0",
          "model_name": "HBoxModel",
          "state": {
            "_dom_classes": [],
            "_model_module": "@jupyter-widgets/controls",
            "_model_module_version": "2.0.0",
            "_model_name": "HBoxModel",
            "_view_count": null,
            "_view_module": "@jupyter-widgets/controls",
            "_view_module_version": "2.0.0",
            "_view_name": "HBoxView",
            "box_style": "",
            "children": [
              "IPY_MODEL_10e7029f5bb041718041262b4006e018",
              "IPY_MODEL_f99a1e7bbcd74f0d80526128df34a4ec",
              "IPY_MODEL_03e1d54b2f8540e2b4c256b1901a2b39"
            ],
            "layout": "IPY_MODEL_6f0730069c514d48a6e410c1cc214ee6",
            "tabbable": null,
            "tooltip": null
          }
        },
        "f99a1e7bbcd74f0d80526128df34a4ec": {
          "model_module": "@jupyter-widgets/controls",
          "model_module_version": "2.0.0",
          "model_name": "FloatProgressModel",
          "state": {
            "_dom_classes": [],
            "_model_module": "@jupyter-widgets/controls",
            "_model_module_version": "2.0.0",
            "_model_name": "FloatProgressModel",
            "_view_count": null,
            "_view_module": "@jupyter-widgets/controls",
            "_view_module_version": "2.0.0",
            "_view_name": "ProgressView",
            "bar_style": "success",
            "description": "",
            "description_allow_html": false,
            "layout": "IPY_MODEL_c734f9798670423fb9c4225bb3fdbdd4",
            "max": 170498071,
            "min": 0,
            "orientation": "horizontal",
            "style": "IPY_MODEL_6e9322094d724b67a38ba0b967de84c2",
            "tabbable": null,
            "tooltip": null,
            "value": 170498071
          }
        },
        "fd5d610f090344a3ba1e2d257b220917": {
          "model_module": "@jupyter-widgets/controls",
          "model_module_version": "2.0.0",
          "model_name": "HTMLStyleModel",
          "state": {
            "_model_module": "@jupyter-widgets/controls",
            "_model_module_version": "2.0.0",
            "_model_name": "HTMLStyleModel",
            "_view_count": null,
            "_view_module": "@jupyter-widgets/base",
            "_view_module_version": "2.0.0",
            "_view_name": "StyleView",
            "background": null,
            "description_width": "",
            "font_size": null,
            "text_color": null
          }
        }
      }
    }
  },
  "nbformat": 4,
  "nbformat_minor": 0
}
